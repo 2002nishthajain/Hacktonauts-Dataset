{
 "cells": [
  {
   "cell_type": "code",
   "execution_count": 1,
   "id": "80477c3d",
   "metadata": {
    "_cell_guid": "b1076dfc-b9ad-4769-8c92-a6c4dae69d19",
    "_uuid": "8f2839f25d086af736a60e9eeb907d3b93b6e0e5",
    "execution": {
     "iopub.execute_input": "2023-10-28T14:44:28.883826Z",
     "iopub.status.busy": "2023-10-28T14:44:28.883339Z",
     "iopub.status.idle": "2023-10-28T14:44:32.010968Z",
     "shell.execute_reply": "2023-10-28T14:44:32.009296Z"
    },
    "papermill": {
     "duration": 3.136415,
     "end_time": "2023-10-28T14:44:32.013496",
     "exception": false,
     "start_time": "2023-10-28T14:44:28.877081",
     "status": "completed"
    },
    "tags": []
   },
   "outputs": [
    {
     "name": "stdout",
     "output_type": "stream",
     "text": [
      "Cloning into 'diffusers'...\r\n",
      "remote: Enumerating objects: 41647, done.\u001b[K\r\n",
      "remote: Counting objects: 100% (1445/1445), done.\u001b[K\r\n",
      "remote: Compressing objects: 100% (686/686), done.\u001b[K\r\n",
      "remote: Total 41647 (delta 978), reused 1024 (delta 648), pack-reused 40202\u001b[K\r\n",
      "Receiving objects: 100% (41647/41647), 27.56 MiB | 33.40 MiB/s, done.\r\n",
      "Resolving deltas: 100% (30784/30784), done.\r\n"
     ]
    }
   ],
   "source": [
    "!git clone https://github.com/huggingface/diffusers"
   ]
  },
  {
   "cell_type": "code",
   "execution_count": 2,
   "id": "ad636b74",
   "metadata": {
    "execution": {
     "iopub.execute_input": "2023-10-28T14:44:32.029480Z",
     "iopub.status.busy": "2023-10-28T14:44:32.029144Z",
     "iopub.status.idle": "2023-10-28T14:44:32.036689Z",
     "shell.execute_reply": "2023-10-28T14:44:32.034999Z"
    },
    "papermill": {
     "duration": 0.018713,
     "end_time": "2023-10-28T14:44:32.039554",
     "exception": false,
     "start_time": "2023-10-28T14:44:32.020841",
     "status": "completed"
    },
    "tags": []
   },
   "outputs": [
    {
     "name": "stdout",
     "output_type": "stream",
     "text": [
      "/kaggle/working/diffusers\n"
     ]
    }
   ],
   "source": [
    "cd diffusers\n"
   ]
  },
  {
   "cell_type": "code",
   "execution_count": 3,
   "id": "fc267f71",
   "metadata": {
    "execution": {
     "iopub.execute_input": "2023-10-28T14:44:32.056344Z",
     "iopub.status.busy": "2023-10-28T14:44:32.055911Z",
     "iopub.status.idle": "2023-10-28T14:44:33.310114Z",
     "shell.execute_reply": "2023-10-28T14:44:33.309291Z"
    },
    "papermill": {
     "duration": 1.266079,
     "end_time": "2023-10-28T14:44:33.312687",
     "exception": false,
     "start_time": "2023-10-28T14:44:32.046608",
     "status": "completed"
    },
    "tags": []
   },
   "outputs": [
    {
     "name": "stdout",
     "output_type": "stream",
     "text": [
      "\r\n",
      "Usage:   \r\n",
      "  pip install [options] <requirement specifier> [package-index-options] ...\r\n",
      "  pip install [options] -r <requirements file> [package-index-options] ...\r\n",
      "  pip install [options] [-e] <vcs project url> ...\r\n",
      "  pip install [options] [-e] <local project path> ...\r\n",
      "  pip install [options] <archive url/path> ...\r\n",
      "\r\n",
      "-e option requires 1 argument\r\n"
     ]
    }
   ],
   "source": [
    "!pip install -e"
   ]
  },
  {
   "cell_type": "code",
   "execution_count": 4,
   "id": "c91c8301",
   "metadata": {
    "execution": {
     "iopub.execute_input": "2023-10-28T14:44:33.329482Z",
     "iopub.status.busy": "2023-10-28T14:44:33.329087Z",
     "iopub.status.idle": "2023-10-28T14:44:33.337375Z",
     "shell.execute_reply": "2023-10-28T14:44:33.336153Z"
    },
    "papermill": {
     "duration": 0.019947,
     "end_time": "2023-10-28T14:44:33.339825",
     "exception": false,
     "start_time": "2023-10-28T14:44:33.319878",
     "status": "completed"
    },
    "tags": []
   },
   "outputs": [
    {
     "name": "stdout",
     "output_type": "stream",
     "text": [
      "/kaggle/working/diffusers/examples/custom_diffusion\n"
     ]
    }
   ],
   "source": [
    "cd examples/custom_diffusion"
   ]
  },
  {
   "cell_type": "code",
   "execution_count": 5,
   "id": "51a38037",
   "metadata": {
    "execution": {
     "iopub.execute_input": "2023-10-28T14:44:33.355580Z",
     "iopub.status.busy": "2023-10-28T14:44:33.355087Z",
     "iopub.status.idle": "2023-10-28T14:44:35.950751Z",
     "shell.execute_reply": "2023-10-28T14:44:35.949590Z"
    },
    "papermill": {
     "duration": 2.606365,
     "end_time": "2023-10-28T14:44:35.953164",
     "exception": false,
     "start_time": "2023-10-28T14:44:33.346799",
     "status": "completed"
    },
    "tags": []
   },
   "outputs": [
    {
     "name": "stdout",
     "output_type": "stream",
     "text": [
      "\r\n",
      "\r\n",
      "\r\n",
      "libjpeg-dev is already the newest version (8c-2ubuntu8).\r\n",
      "0 upgraded, 0 newly installed, 0 to remove and 40 not upgraded.\r\n"
     ]
    }
   ],
   "source": [
    "!apt-get install -y libjpeg-dev"
   ]
  },
  {
   "cell_type": "code",
   "execution_count": 6,
   "id": "b296099b",
   "metadata": {
    "execution": {
     "iopub.execute_input": "2023-10-28T14:44:35.970747Z",
     "iopub.status.busy": "2023-10-28T14:44:35.970337Z",
     "iopub.status.idle": "2023-10-28T14:44:47.474016Z",
     "shell.execute_reply": "2023-10-28T14:44:47.472678Z"
    },
    "papermill": {
     "duration": 11.51531,
     "end_time": "2023-10-28T14:44:47.476420",
     "exception": false,
     "start_time": "2023-10-28T14:44:35.961110",
     "status": "completed"
    },
    "tags": []
   },
   "outputs": [
    {
     "name": "stdout",
     "output_type": "stream",
     "text": [
      "Collecting pip-autoremove\r\n",
      "  Downloading pip_autoremove-0.10.0-py2.py3-none-any.whl (5.0 kB)\r\n",
      "Requirement already satisfied: pip in /opt/conda/lib/python3.10/site-packages (from pip-autoremove) (23.1.2)\r\n",
      "Requirement already satisfied: setuptools in /opt/conda/lib/python3.10/site-packages (from pip-autoremove) (68.0.0)\r\n",
      "Installing collected packages: pip-autoremove\r\n",
      "Successfully installed pip-autoremove-0.10.0\r\n"
     ]
    }
   ],
   "source": [
    "!pip install pip-autoremove\n"
   ]
  },
  {
   "cell_type": "code",
   "execution_count": 7,
   "id": "9178140c",
   "metadata": {
    "execution": {
     "iopub.execute_input": "2023-10-28T14:44:47.495328Z",
     "iopub.status.busy": "2023-10-28T14:44:47.494854Z",
     "iopub.status.idle": "2023-10-28T14:46:57.738253Z",
     "shell.execute_reply": "2023-10-28T14:46:57.737517Z"
    },
    "papermill": {
     "duration": 130.256159,
     "end_time": "2023-10-28T14:46:57.740686",
     "exception": false,
     "start_time": "2023-10-28T14:44:47.484527",
     "status": "completed"
    },
    "tags": []
   },
   "outputs": [
    {
     "name": "stdout",
     "output_type": "stream",
     "text": [
      "dill 0.3.7 is installed but dill<0.3.2,>=0.3.1.1 is required\r\n",
      "Redoing requirement with just package name...\r\n",
      "jupyter-server 2.6.0 is installed but jupyter-server~=1.16 is required\r\n",
      "Redoing requirement with just package name...\r\n",
      "botocore 1.31.17 is installed but botocore<1.30.0,>=1.29.100 is required\r\n",
      "Redoing requirement with just package name...\r\n",
      "numpy 1.23.5 is installed but numpy>=1.25.0 is required\r\n",
      "Redoing requirement with just package name...\r\n",
      "google-api-python-client 2.97.0 is installed but google-api-python-client==1.8.0 is required\r\n",
      "Redoing requirement with just package name...\r\n",
      "importlib-metadata 6.7.0 is installed but importlib-metadata<6.0.0,>=5.1.0 is required\r\n",
      "Redoing requirement with just package name...\r\n",
      "The 'google.auth>=1.14.1' distribution was not found and is required by the application\r\n",
      "Skipping google.auth\r\n",
      "fsspec 2023.9.0 is installed but fsspec==2023.6.0 is required\r\n",
      "Redoing requirement with just package name...\r\n",
      "google-api-core 2.11.1 is installed but google-api-core[grpc]<2.0.0dev,>=1.22.2 is required\r\n",
      "Redoing requirement with just package name...\r\n",
      "google-api-core 2.11.1 is installed but google-api-core[grpc]<2.0.0dev,>=1.14.0 is required\r\n",
      "Redoing requirement with just package name...\r\n",
      "jupyter-lsp 1.5.1 is installed but jupyter-lsp>=2.0.0 is required\r\n",
      "Redoing requirement with just package name...\r\n",
      "google-cloud-storage 1.44.0 is installed but google-cloud-storage<3,>=2.2.1 is required\r\n",
      "Redoing requirement with just package name...\r\n",
      "Shapely 1.8.5.post1 is installed but shapely>=2 is required\r\n",
      "Redoing requirement with just package name...\r\n",
      "importlib-metadata 6.7.0 is installed but importlib-metadata~=6.0.0 is required\r\n",
      "Redoing requirement with just package name...\r\n",
      "numpy 1.23.5 is installed but numpy<1.22.2,>=1.15.0 is required\r\n",
      "Redoing requirement with just package name...\r\n",
      "scipy 1.11.2 is installed but scipy<1.8.0,>=1.7.3 is required\r\n",
      "Redoing requirement with just package name...\r\n",
      "packaging 21.3 is installed but packaging>=22.0 is required\r\n",
      "Redoing requirement with just package name...\r\n",
      "scipy 1.11.2 is installed but scipy<1.11,>=1.4.1 is required\r\n",
      "Redoing requirement with just package name...\r\n",
      "torchvision 0.15.1+cpu (/opt/conda/lib/python3.10/site-packages)\r\n",
      "Found existing installation: torchvision 0.15.1+cpu\r\n",
      "Uninstalling torchvision-0.15.1+cpu:\r\n",
      "  Successfully uninstalled torchvision-0.15.1+cpu\r\n",
      "Collecting torchvision\r\n",
      "  Downloading torchvision-0.16.0-cp310-cp310-manylinux1_x86_64.whl (6.9 MB)\r\n",
      "\u001b[2K     \u001b[90m━━━━━━━━━━━━━━━━━━━━━━━━━━━━━━━━━━━━━━━━\u001b[0m \u001b[32m6.9/6.9 MB\u001b[0m \u001b[31m45.3 MB/s\u001b[0m eta \u001b[36m0:00:00\u001b[0m\r\n",
      "\u001b[?25hRequirement already satisfied: numpy in /opt/conda/lib/python3.10/site-packages (from torchvision) (1.23.5)\r\n",
      "Requirement already satisfied: requests in /opt/conda/lib/python3.10/site-packages (from torchvision) (2.31.0)\r\n",
      "Collecting torch==2.1.0 (from torchvision)\r\n",
      "  Downloading torch-2.1.0-cp310-cp310-manylinux1_x86_64.whl (670.2 MB)\r\n",
      "\u001b[2K     \u001b[90m━━━━━━━━━━━━━━━━━━━━━━━━━━━━━━━━━━━━━━━\u001b[0m \u001b[32m670.2/670.2 MB\u001b[0m \u001b[31m2.1 MB/s\u001b[0m eta \u001b[36m0:00:00\u001b[0m\r\n",
      "\u001b[?25hRequirement already satisfied: pillow!=8.3.*,>=5.3.0 in /opt/conda/lib/python3.10/site-packages (from torchvision) (9.5.0)\r\n",
      "Requirement already satisfied: filelock in /opt/conda/lib/python3.10/site-packages (from torch==2.1.0->torchvision) (3.12.2)\r\n",
      "Requirement already satisfied: typing-extensions in /opt/conda/lib/python3.10/site-packages (from torch==2.1.0->torchvision) (4.6.3)\r\n",
      "Requirement already satisfied: sympy in /opt/conda/lib/python3.10/site-packages (from torch==2.1.0->torchvision) (1.12)\r\n",
      "Requirement already satisfied: networkx in /opt/conda/lib/python3.10/site-packages (from torch==2.1.0->torchvision) (3.1)\r\n",
      "Requirement already satisfied: jinja2 in /opt/conda/lib/python3.10/site-packages (from torch==2.1.0->torchvision) (3.1.2)\r\n",
      "Requirement already satisfied: fsspec in /opt/conda/lib/python3.10/site-packages (from torch==2.1.0->torchvision) (2023.9.0)\r\n",
      "Collecting nvidia-cuda-nvrtc-cu12==12.1.105 (from torch==2.1.0->torchvision)\r\n",
      "  Downloading nvidia_cuda_nvrtc_cu12-12.1.105-py3-none-manylinux1_x86_64.whl (23.7 MB)\r\n",
      "\u001b[2K     \u001b[90m━━━━━━━━━━━━━━━━━━━━━━━━━━━━━━━━━━━━━━━━\u001b[0m \u001b[32m23.7/23.7 MB\u001b[0m \u001b[31m62.4 MB/s\u001b[0m eta \u001b[36m0:00:00\u001b[0m\r\n",
      "\u001b[?25hCollecting nvidia-cuda-runtime-cu12==12.1.105 (from torch==2.1.0->torchvision)\r\n",
      "  Downloading nvidia_cuda_runtime_cu12-12.1.105-py3-none-manylinux1_x86_64.whl (823 kB)\r\n",
      "\u001b[2K     \u001b[90m━━━━━━━━━━━━━━━━━━━━━━━━━━━━━━━━━━━━━━\u001b[0m \u001b[32m823.6/823.6 kB\u001b[0m \u001b[31m39.9 MB/s\u001b[0m eta \u001b[36m0:00:00\u001b[0m\r\n",
      "\u001b[?25hCollecting nvidia-cuda-cupti-cu12==12.1.105 (from torch==2.1.0->torchvision)\r\n",
      "  Downloading nvidia_cuda_cupti_cu12-12.1.105-py3-none-manylinux1_x86_64.whl (14.1 MB)\r\n",
      "\u001b[2K     \u001b[90m━━━━━━━━━━━━━━━━━━━━━━━━━━━━━━━━━━━━━━━━\u001b[0m \u001b[32m14.1/14.1 MB\u001b[0m \u001b[31m88.2 MB/s\u001b[0m eta \u001b[36m0:00:00\u001b[0m\r\n",
      "\u001b[?25hCollecting nvidia-cudnn-cu12==8.9.2.26 (from torch==2.1.0->torchvision)\r\n",
      "  Downloading nvidia_cudnn_cu12-8.9.2.26-py3-none-manylinux1_x86_64.whl (731.7 MB)\r\n",
      "\u001b[2K     \u001b[90m━━━━━━━━━━━━━━━━━━━━━━━━━━━━━━━━━━━━━━━\u001b[0m \u001b[32m731.7/731.7 MB\u001b[0m \u001b[31m1.8 MB/s\u001b[0m eta \u001b[36m0:00:00\u001b[0m\r\n",
      "\u001b[?25hCollecting nvidia-cublas-cu12==12.1.3.1 (from torch==2.1.0->torchvision)\r\n",
      "  Downloading nvidia_cublas_cu12-12.1.3.1-py3-none-manylinux1_x86_64.whl (410.6 MB)\r\n",
      "\u001b[2K     \u001b[90m━━━━━━━━━━━━━━━━━━━━━━━━━━━━━━━━━━━━━━━\u001b[0m \u001b[32m410.6/410.6 MB\u001b[0m \u001b[31m1.2 MB/s\u001b[0m eta \u001b[36m0:00:00\u001b[0m\r\n",
      "\u001b[?25hCollecting nvidia-cufft-cu12==11.0.2.54 (from torch==2.1.0->torchvision)\r\n",
      "  Downloading nvidia_cufft_cu12-11.0.2.54-py3-none-manylinux1_x86_64.whl (121.6 MB)\r\n",
      "\u001b[2K     \u001b[90m━━━━━━━━━━━━━━━━━━━━━━━━━━━━━━━━━━━━━━\u001b[0m \u001b[32m121.6/121.6 MB\u001b[0m \u001b[31m11.1 MB/s\u001b[0m eta \u001b[36m0:00:00\u001b[0m\r\n",
      "\u001b[?25hCollecting nvidia-curand-cu12==10.3.2.106 (from torch==2.1.0->torchvision)\r\n",
      "  Downloading nvidia_curand_cu12-10.3.2.106-py3-none-manylinux1_x86_64.whl (56.5 MB)\r\n",
      "\u001b[2K     \u001b[90m━━━━━━━━━━━━━━━━━━━━━━━━━━━━━━━━━━━━━━━━\u001b[0m \u001b[32m56.5/56.5 MB\u001b[0m \u001b[31m25.2 MB/s\u001b[0m eta \u001b[36m0:00:00\u001b[0m\r\n",
      "\u001b[?25hCollecting nvidia-cusolver-cu12==11.4.5.107 (from torch==2.1.0->torchvision)\r\n",
      "  Downloading nvidia_cusolver_cu12-11.4.5.107-py3-none-manylinux1_x86_64.whl (124.2 MB)\r\n",
      "\u001b[2K     \u001b[90m━━━━━━━━━━━━━━━━━━━━━━━━━━━━━━━━━━━━━━\u001b[0m \u001b[32m124.2/124.2 MB\u001b[0m \u001b[31m11.1 MB/s\u001b[0m eta \u001b[36m0:00:00\u001b[0m\r\n",
      "\u001b[?25hCollecting nvidia-cusparse-cu12==12.1.0.106 (from torch==2.1.0->torchvision)\r\n",
      "  Downloading nvidia_cusparse_cu12-12.1.0.106-py3-none-manylinux1_x86_64.whl (196.0 MB)\r\n",
      "\u001b[2K     \u001b[90m━━━━━━━━━━━━━━━━━━━━━━━━━━━━━━━━━━━━━━━\u001b[0m \u001b[32m196.0/196.0 MB\u001b[0m \u001b[31m7.1 MB/s\u001b[0m eta \u001b[36m0:00:00\u001b[0m\r\n",
      "\u001b[?25hCollecting nvidia-nccl-cu12==2.18.1 (from torch==2.1.0->torchvision)\r\n",
      "  Downloading nvidia_nccl_cu12-2.18.1-py3-none-manylinux1_x86_64.whl (209.8 MB)\r\n",
      "\u001b[2K     \u001b[90m━━━━━━━━━━━━━━━━━━━━━━━━━━━━━━━━━━━━━━━\u001b[0m \u001b[32m209.8/209.8 MB\u001b[0m \u001b[31m6.5 MB/s\u001b[0m eta \u001b[36m0:00:00\u001b[0m\r\n",
      "\u001b[?25hCollecting nvidia-nvtx-cu12==12.1.105 (from torch==2.1.0->torchvision)\r\n",
      "  Downloading nvidia_nvtx_cu12-12.1.105-py3-none-manylinux1_x86_64.whl (99 kB)\r\n",
      "\u001b[2K     \u001b[90m━━━━━━━━━━━━━━━━━━━━━━━━━━━━━━━━━━━━━━━━\u001b[0m \u001b[32m99.1/99.1 kB\u001b[0m \u001b[31m6.9 MB/s\u001b[0m eta \u001b[36m0:00:00\u001b[0m\r\n",
      "\u001b[?25hCollecting triton==2.1.0 (from torch==2.1.0->torchvision)\r\n",
      "  Downloading triton-2.1.0-0-cp310-cp310-manylinux2014_x86_64.manylinux_2_17_x86_64.whl (89.2 MB)\r\n",
      "\u001b[2K     \u001b[90m━━━━━━━━━━━━━━━━━━━━━━━━━━━━━━━━━━━━━━━━\u001b[0m \u001b[32m89.2/89.2 MB\u001b[0m \u001b[31m16.3 MB/s\u001b[0m eta \u001b[36m0:00:00\u001b[0m\r\n",
      "\u001b[?25hCollecting nvidia-nvjitlink-cu12 (from nvidia-cusolver-cu12==11.4.5.107->torch==2.1.0->torchvision)\r\n",
      "  Downloading nvidia_nvjitlink_cu12-12.3.52-py3-none-manylinux1_x86_64.whl (20.5 MB)\r\n",
      "\u001b[2K     \u001b[90m━━━━━━━━━━━━━━━━━━━━━━━━━━━━━━━━━━━━━━━━\u001b[0m \u001b[32m20.5/20.5 MB\u001b[0m \u001b[31m76.1 MB/s\u001b[0m eta \u001b[36m0:00:00\u001b[0m\r\n",
      "\u001b[?25hRequirement already satisfied: charset-normalizer<4,>=2 in /opt/conda/lib/python3.10/site-packages (from requests->torchvision) (3.1.0)\r\n",
      "Requirement already satisfied: idna<4,>=2.5 in /opt/conda/lib/python3.10/site-packages (from requests->torchvision) (3.4)\r\n",
      "Requirement already satisfied: urllib3<3,>=1.21.1 in /opt/conda/lib/python3.10/site-packages (from requests->torchvision) (1.26.15)\r\n",
      "Requirement already satisfied: certifi>=2017.4.17 in /opt/conda/lib/python3.10/site-packages (from requests->torchvision) (2023.7.22)\r\n",
      "Requirement already satisfied: MarkupSafe>=2.0 in /opt/conda/lib/python3.10/site-packages (from jinja2->torch==2.1.0->torchvision) (2.1.3)\r\n",
      "Requirement already satisfied: mpmath>=0.19 in /opt/conda/lib/python3.10/site-packages (from sympy->torch==2.1.0->torchvision) (1.3.0)\r\n",
      "Installing collected packages: triton, nvidia-nvtx-cu12, nvidia-nvjitlink-cu12, nvidia-nccl-cu12, nvidia-curand-cu12, nvidia-cufft-cu12, nvidia-cuda-runtime-cu12, nvidia-cuda-nvrtc-cu12, nvidia-cuda-cupti-cu12, nvidia-cublas-cu12, nvidia-cusparse-cu12, nvidia-cudnn-cu12, nvidia-cusolver-cu12, torch, torchvision\r\n",
      "  Attempting uninstall: torch\r\n",
      "    Found existing installation: torch 2.0.0+cpu\r\n",
      "    Uninstalling torch-2.0.0+cpu:\r\n",
      "      Successfully uninstalled torch-2.0.0+cpu\r\n",
      "\u001b[31mERROR: pip's dependency resolver does not currently take into account all the packages that are installed. This behaviour is the source of the following dependency conflicts.\r\n",
      "fastai 2.7.12 requires torch<2.1,>=1.7, but you have torch 2.1.0 which is incompatible.\r\n",
      "torchaudio 2.0.1+cpu requires torch==2.0.0, but you have torch 2.1.0 which is incompatible.\r\n",
      "torchdata 0.6.0 requires torch==2.0.0, but you have torch 2.1.0 which is incompatible.\r\n",
      "torchtext 0.15.1+cpu requires torch==2.0.0, but you have torch 2.1.0 which is incompatible.\u001b[0m\u001b[31m\r\n",
      "\u001b[0mSuccessfully installed nvidia-cublas-cu12-12.1.3.1 nvidia-cuda-cupti-cu12-12.1.105 nvidia-cuda-nvrtc-cu12-12.1.105 nvidia-cuda-runtime-cu12-12.1.105 nvidia-cudnn-cu12-8.9.2.26 nvidia-cufft-cu12-11.0.2.54 nvidia-curand-cu12-10.3.2.106 nvidia-cusolver-cu12-11.4.5.107 nvidia-cusparse-cu12-12.1.0.106 nvidia-nccl-cu12-2.18.1 nvidia-nvjitlink-cu12-12.3.52 nvidia-nvtx-cu12-12.1.105 torch-2.1.0 torchvision-0.16.0 triton-2.1.0\r\n"
     ]
    }
   ],
   "source": [
    "!pip-autoremove -y torchvision\n",
    "!pip install torchvision"
   ]
  },
  {
   "cell_type": "code",
   "execution_count": 8,
   "id": "45f6b797",
   "metadata": {
    "execution": {
     "iopub.execute_input": "2023-10-28T14:46:57.910948Z",
     "iopub.status.busy": "2023-10-28T14:46:57.910593Z",
     "iopub.status.idle": "2023-10-28T14:49:04.243469Z",
     "shell.execute_reply": "2023-10-28T14:49:04.242355Z"
    },
    "papermill": {
     "duration": 126.390983,
     "end_time": "2023-10-28T14:49:04.245964",
     "exception": false,
     "start_time": "2023-10-28T14:46:57.854981",
     "status": "completed"
    },
    "tags": []
   },
   "outputs": [
    {
     "name": "stdout",
     "output_type": "stream",
     "text": [
      "Requirement already satisfied: accelerate in /opt/conda/lib/python3.10/site-packages (from -r requirements.txt (line 1)) (0.22.0)\r\n",
      "Requirement already satisfied: torchvision in /opt/conda/lib/python3.10/site-packages (from -r requirements.txt (line 2)) (0.16.0)\r\n",
      "Requirement already satisfied: transformers>=4.25.1 in /opt/conda/lib/python3.10/site-packages (from -r requirements.txt (line 3)) (4.33.0)\r\n",
      "Collecting ftfy (from -r requirements.txt (line 4))\r\n",
      "  Downloading ftfy-6.1.1-py3-none-any.whl (53 kB)\r\n",
      "\u001b[2K     \u001b[90m━━━━━━━━━━━━━━━━━━━━━━━━━━━━━━━━━━━━━━━━\u001b[0m \u001b[32m53.1/53.1 kB\u001b[0m \u001b[31m1.9 MB/s\u001b[0m eta \u001b[36m0:00:00\u001b[0m\r\n",
      "\u001b[?25hRequirement already satisfied: tensorboard in /opt/conda/lib/python3.10/site-packages (from -r requirements.txt (line 5)) (2.12.3)\r\n",
      "Requirement already satisfied: Jinja2 in /opt/conda/lib/python3.10/site-packages (from -r requirements.txt (line 6)) (3.1.2)\r\n",
      "Requirement already satisfied: numpy>=1.17 in /opt/conda/lib/python3.10/site-packages (from accelerate->-r requirements.txt (line 1)) (1.23.5)\r\n",
      "Requirement already satisfied: packaging>=20.0 in /opt/conda/lib/python3.10/site-packages (from accelerate->-r requirements.txt (line 1)) (21.3)\r\n",
      "Requirement already satisfied: psutil in /opt/conda/lib/python3.10/site-packages (from accelerate->-r requirements.txt (line 1)) (5.9.3)\r\n",
      "Requirement already satisfied: pyyaml in /opt/conda/lib/python3.10/site-packages (from accelerate->-r requirements.txt (line 1)) (6.0)\r\n",
      "Requirement already satisfied: torch>=1.10.0 in /opt/conda/lib/python3.10/site-packages (from accelerate->-r requirements.txt (line 1)) (2.1.0)\r\n",
      "Requirement already satisfied: requests in /opt/conda/lib/python3.10/site-packages (from torchvision->-r requirements.txt (line 2)) (2.31.0)\r\n",
      "Requirement already satisfied: pillow!=8.3.*,>=5.3.0 in /opt/conda/lib/python3.10/site-packages (from torchvision->-r requirements.txt (line 2)) (9.5.0)\r\n",
      "Requirement already satisfied: filelock in /opt/conda/lib/python3.10/site-packages (from torch>=1.10.0->accelerate->-r requirements.txt (line 1)) (3.12.2)\r\n",
      "Requirement already satisfied: typing-extensions in /opt/conda/lib/python3.10/site-packages (from torch>=1.10.0->accelerate->-r requirements.txt (line 1)) (4.6.3)\r\n",
      "Requirement already satisfied: sympy in /opt/conda/lib/python3.10/site-packages (from torch>=1.10.0->accelerate->-r requirements.txt (line 1)) (1.12)\r\n",
      "Requirement already satisfied: networkx in /opt/conda/lib/python3.10/site-packages (from torch>=1.10.0->accelerate->-r requirements.txt (line 1)) (3.1)\r\n",
      "Requirement already satisfied: fsspec in /opt/conda/lib/python3.10/site-packages (from torch>=1.10.0->accelerate->-r requirements.txt (line 1)) (2023.9.0)\r\n",
      "Requirement already satisfied: nvidia-cuda-nvrtc-cu12==12.1.105 in /opt/conda/lib/python3.10/site-packages (from torch>=1.10.0->accelerate->-r requirements.txt (line 1)) (12.1.105)\r\n",
      "Requirement already satisfied: nvidia-cuda-runtime-cu12==12.1.105 in /opt/conda/lib/python3.10/site-packages (from torch>=1.10.0->accelerate->-r requirements.txt (line 1)) (12.1.105)\r\n",
      "Requirement already satisfied: nvidia-cuda-cupti-cu12==12.1.105 in /opt/conda/lib/python3.10/site-packages (from torch>=1.10.0->accelerate->-r requirements.txt (line 1)) (12.1.105)\r\n",
      "Requirement already satisfied: nvidia-cudnn-cu12==8.9.2.26 in /opt/conda/lib/python3.10/site-packages (from torch>=1.10.0->accelerate->-r requirements.txt (line 1)) (8.9.2.26)\r\n",
      "Requirement already satisfied: nvidia-cublas-cu12==12.1.3.1 in /opt/conda/lib/python3.10/site-packages (from torch>=1.10.0->accelerate->-r requirements.txt (line 1)) (12.1.3.1)\r\n",
      "Requirement already satisfied: nvidia-cufft-cu12==11.0.2.54 in /opt/conda/lib/python3.10/site-packages (from torch>=1.10.0->accelerate->-r requirements.txt (line 1)) (11.0.2.54)\r\n",
      "Requirement already satisfied: nvidia-curand-cu12==10.3.2.106 in /opt/conda/lib/python3.10/site-packages (from torch>=1.10.0->accelerate->-r requirements.txt (line 1)) (10.3.2.106)\r\n",
      "Requirement already satisfied: nvidia-cusolver-cu12==11.4.5.107 in /opt/conda/lib/python3.10/site-packages (from torch>=1.10.0->accelerate->-r requirements.txt (line 1)) (11.4.5.107)\r\n",
      "Requirement already satisfied: nvidia-cusparse-cu12==12.1.0.106 in /opt/conda/lib/python3.10/site-packages (from torch>=1.10.0->accelerate->-r requirements.txt (line 1)) (12.1.0.106)\r\n",
      "Requirement already satisfied: nvidia-nccl-cu12==2.18.1 in /opt/conda/lib/python3.10/site-packages (from torch>=1.10.0->accelerate->-r requirements.txt (line 1)) (2.18.1)\r\n",
      "Requirement already satisfied: nvidia-nvtx-cu12==12.1.105 in /opt/conda/lib/python3.10/site-packages (from torch>=1.10.0->accelerate->-r requirements.txt (line 1)) (12.1.105)\r\n",
      "Requirement already satisfied: triton==2.1.0 in /opt/conda/lib/python3.10/site-packages (from torch>=1.10.0->accelerate->-r requirements.txt (line 1)) (2.1.0)\r\n",
      "Requirement already satisfied: nvidia-nvjitlink-cu12 in /opt/conda/lib/python3.10/site-packages (from nvidia-cusolver-cu12==11.4.5.107->torch>=1.10.0->accelerate->-r requirements.txt (line 1)) (12.3.52)\r\n",
      "Requirement already satisfied: huggingface-hub<1.0,>=0.15.1 in /opt/conda/lib/python3.10/site-packages (from transformers>=4.25.1->-r requirements.txt (line 3)) (0.16.4)\r\n",
      "Requirement already satisfied: regex!=2019.12.17 in /opt/conda/lib/python3.10/site-packages (from transformers>=4.25.1->-r requirements.txt (line 3)) (2023.6.3)\r\n",
      "Requirement already satisfied: tokenizers!=0.11.3,<0.14,>=0.11.1 in /opt/conda/lib/python3.10/site-packages (from transformers>=4.25.1->-r requirements.txt (line 3)) (0.13.3)\r\n",
      "Requirement already satisfied: safetensors>=0.3.1 in /opt/conda/lib/python3.10/site-packages (from transformers>=4.25.1->-r requirements.txt (line 3)) (0.3.3)\r\n",
      "Requirement already satisfied: tqdm>=4.27 in /opt/conda/lib/python3.10/site-packages (from transformers>=4.25.1->-r requirements.txt (line 3)) (4.66.1)\r\n",
      "Requirement already satisfied: wcwidth>=0.2.5 in /opt/conda/lib/python3.10/site-packages (from ftfy->-r requirements.txt (line 4)) (0.2.6)\r\n",
      "Requirement already satisfied: absl-py>=0.4 in /opt/conda/lib/python3.10/site-packages (from tensorboard->-r requirements.txt (line 5)) (1.4.0)\r\n",
      "Requirement already satisfied: grpcio>=1.48.2 in /opt/conda/lib/python3.10/site-packages (from tensorboard->-r requirements.txt (line 5)) (1.51.3)\r\n",
      "Requirement already satisfied: google-auth<3,>=1.6.3 in /opt/conda/lib/python3.10/site-packages (from tensorboard->-r requirements.txt (line 5)) (2.20.0)\r\n",
      "Requirement already satisfied: google-auth-oauthlib<1.1,>=0.5 in /opt/conda/lib/python3.10/site-packages (from tensorboard->-r requirements.txt (line 5)) (1.0.0)\r\n",
      "Requirement already satisfied: markdown>=2.6.8 in /opt/conda/lib/python3.10/site-packages (from tensorboard->-r requirements.txt (line 5)) (3.4.3)\r\n",
      "Requirement already satisfied: protobuf>=3.19.6 in /opt/conda/lib/python3.10/site-packages (from tensorboard->-r requirements.txt (line 5)) (3.20.3)\r\n",
      "Requirement already satisfied: setuptools>=41.0.0 in /opt/conda/lib/python3.10/site-packages (from tensorboard->-r requirements.txt (line 5)) (68.0.0)\r\n",
      "Requirement already satisfied: tensorboard-data-server<0.8.0,>=0.7.0 in /opt/conda/lib/python3.10/site-packages (from tensorboard->-r requirements.txt (line 5)) (0.7.1)\r\n",
      "Requirement already satisfied: werkzeug>=1.0.1 in /opt/conda/lib/python3.10/site-packages (from tensorboard->-r requirements.txt (line 5)) (2.3.7)\r\n",
      "Requirement already satisfied: wheel>=0.26 in /opt/conda/lib/python3.10/site-packages (from tensorboard->-r requirements.txt (line 5)) (0.40.0)\r\n",
      "Requirement already satisfied: MarkupSafe>=2.0 in /opt/conda/lib/python3.10/site-packages (from Jinja2->-r requirements.txt (line 6)) (2.1.3)\r\n",
      "Requirement already satisfied: cachetools<6.0,>=2.0.0 in /opt/conda/lib/python3.10/site-packages (from google-auth<3,>=1.6.3->tensorboard->-r requirements.txt (line 5)) (4.2.4)\r\n",
      "Requirement already satisfied: pyasn1-modules>=0.2.1 in /opt/conda/lib/python3.10/site-packages (from google-auth<3,>=1.6.3->tensorboard->-r requirements.txt (line 5)) (0.2.7)\r\n",
      "Requirement already satisfied: rsa<5,>=3.1.4 in /opt/conda/lib/python3.10/site-packages (from google-auth<3,>=1.6.3->tensorboard->-r requirements.txt (line 5)) (4.9)\r\n",
      "Requirement already satisfied: six>=1.9.0 in /opt/conda/lib/python3.10/site-packages (from google-auth<3,>=1.6.3->tensorboard->-r requirements.txt (line 5)) (1.16.0)\r\n",
      "Requirement already satisfied: urllib3<2.0 in /opt/conda/lib/python3.10/site-packages (from google-auth<3,>=1.6.3->tensorboard->-r requirements.txt (line 5)) (1.26.15)\r\n",
      "Requirement already satisfied: requests-oauthlib>=0.7.0 in /opt/conda/lib/python3.10/site-packages (from google-auth-oauthlib<1.1,>=0.5->tensorboard->-r requirements.txt (line 5)) (1.3.1)\r\n",
      "Requirement already satisfied: pyparsing!=3.0.5,>=2.0.2 in /opt/conda/lib/python3.10/site-packages (from packaging>=20.0->accelerate->-r requirements.txt (line 1)) (3.0.9)\r\n",
      "Requirement already satisfied: charset-normalizer<4,>=2 in /opt/conda/lib/python3.10/site-packages (from requests->torchvision->-r requirements.txt (line 2)) (3.1.0)\r\n",
      "Requirement already satisfied: idna<4,>=2.5 in /opt/conda/lib/python3.10/site-packages (from requests->torchvision->-r requirements.txt (line 2)) (3.4)\r\n",
      "Requirement already satisfied: certifi>=2017.4.17 in /opt/conda/lib/python3.10/site-packages (from requests->torchvision->-r requirements.txt (line 2)) (2023.7.22)\r\n",
      "Requirement already satisfied: pyasn1<0.5.0,>=0.4.6 in /opt/conda/lib/python3.10/site-packages (from pyasn1-modules>=0.2.1->google-auth<3,>=1.6.3->tensorboard->-r requirements.txt (line 5)) (0.4.8)\r\n",
      "Requirement already satisfied: oauthlib>=3.0.0 in /opt/conda/lib/python3.10/site-packages (from requests-oauthlib>=0.7.0->google-auth-oauthlib<1.1,>=0.5->tensorboard->-r requirements.txt (line 5)) (3.2.2)\r\n",
      "Requirement already satisfied: mpmath>=0.19 in /opt/conda/lib/python3.10/site-packages (from sympy->torch>=1.10.0->accelerate->-r requirements.txt (line 1)) (1.3.0)\r\n",
      "Installing collected packages: ftfy\r\n",
      "Successfully installed ftfy-6.1.1\r\n",
      "Collecting clip-retrieval\r\n",
      "  Downloading clip_retrieval-2.37.0-py3-none-any.whl (343 kB)\r\n",
      "\u001b[2K     \u001b[90m━━━━━━━━━━━━━━━━━━━━━━━━━━━━━━━━━━━━━━━\u001b[0m \u001b[32m343.4/343.4 kB\u001b[0m \u001b[31m5.8 MB/s\u001b[0m eta \u001b[36m0:00:00\u001b[0m\r\n",
      "\u001b[?25hCollecting img2dataset<2,>=1.25.5 (from clip-retrieval)\r\n",
      "  Downloading img2dataset-1.42.0-py3-none-any.whl (41 kB)\r\n",
      "\u001b[2K     \u001b[90m━━━━━━━━━━━━━━━━━━━━━━━━━━━━━━━━━━━━━━━━\u001b[0m \u001b[32m41.7/41.7 kB\u001b[0m \u001b[31m3.1 MB/s\u001b[0m eta \u001b[36m0:00:00\u001b[0m\r\n",
      "\u001b[?25hCollecting clip-anytorch<3,>=2.5.0 (from clip-retrieval)\r\n",
      "  Downloading clip_anytorch-2.5.2-py3-none-any.whl (1.4 MB)\r\n",
      "\u001b[2K     \u001b[90m━━━━━━━━━━━━━━━━━━━━━━━━━━━━━━━━━━━━━━━━\u001b[0m \u001b[32m1.4/1.4 MB\u001b[0m \u001b[31m34.1 MB/s\u001b[0m eta \u001b[36m0:00:00\u001b[0m\r\n",
      "\u001b[?25hRequirement already satisfied: tqdm<5,>=4.62.3 in /opt/conda/lib/python3.10/site-packages (from clip-retrieval) (4.66.1)\r\n",
      "Collecting fire<0.5.0,>=0.4.0 (from clip-retrieval)\r\n",
      "  Downloading fire-0.4.0.tar.gz (87 kB)\r\n",
      "\u001b[2K     \u001b[90m━━━━━━━━━━━━━━━━━━━━━━━━━━━━━━━━━━━━━━━━\u001b[0m \u001b[32m87.7/87.7 kB\u001b[0m \u001b[31m5.7 MB/s\u001b[0m eta \u001b[36m0:00:00\u001b[0m\r\n",
      "\u001b[?25h  Preparing metadata (setup.py) ... \u001b[?25l-\b \bdone\r\n",
      "\u001b[?25hCollecting torch<2,>=1.7.1 (from clip-retrieval)\r\n",
      "  Downloading torch-1.13.1-cp310-cp310-manylinux1_x86_64.whl (887.5 MB)\r\n",
      "\u001b[2K     \u001b[90m━━━━━━━━━━━━━━━━━━━━━━━━━━━━━━━━━━━━━━━\u001b[0m \u001b[32m887.5/887.5 MB\u001b[0m \u001b[31m1.6 MB/s\u001b[0m eta \u001b[36m0:00:00\u001b[0m\r\n",
      "\u001b[?25hRequirement already satisfied: torchvision<2,>=0.10.1 in /opt/conda/lib/python3.10/site-packages (from clip-retrieval) (0.16.0)\r\n",
      "Requirement already satisfied: numpy<2,>=1.19.5 in /opt/conda/lib/python3.10/site-packages (from clip-retrieval) (1.23.5)\r\n",
      "Collecting faiss-cpu<2,>=1.7.2 (from clip-retrieval)\r\n",
      "  Downloading faiss_cpu-1.7.4-cp310-cp310-manylinux_2_17_x86_64.manylinux2014_x86_64.whl (17.6 MB)\r\n",
      "\u001b[2K     \u001b[90m━━━━━━━━━━━━━━━━━━━━━━━━━━━━━━━━━━━━━━━━\u001b[0m \u001b[32m17.6/17.6 MB\u001b[0m \u001b[31m71.1 MB/s\u001b[0m eta \u001b[36m0:00:00\u001b[0m\r\n",
      "\u001b[?25hRequirement already satisfied: flask<3,>=2.0.3 in /opt/conda/lib/python3.10/site-packages (from clip-retrieval) (2.3.3)\r\n",
      "Collecting flask-restful<1,>=0.3.9 (from clip-retrieval)\r\n",
      "  Downloading Flask_RESTful-0.3.10-py2.py3-none-any.whl (26 kB)\r\n",
      "Collecting flask-cors<4,>=3.0.10 (from clip-retrieval)\r\n",
      "  Downloading Flask_Cors-3.0.10-py2.py3-none-any.whl (14 kB)\r\n",
      "Collecting pandas<2,>=1.1.5 (from clip-retrieval)\r\n",
      "  Downloading pandas-1.5.3-cp310-cp310-manylinux_2_17_x86_64.manylinux2014_x86_64.whl (12.1 MB)\r\n",
      "\u001b[2K     \u001b[90m━━━━━━━━━━━━━━━━━━━━━━━━━━━━━━━━━━━━━━━━\u001b[0m \u001b[32m12.1/12.1 MB\u001b[0m \u001b[31m90.3 MB/s\u001b[0m eta \u001b[36m0:00:00\u001b[0m\r\n",
      "\u001b[?25hCollecting pyarrow<8,>=6.0.1 (from clip-retrieval)\r\n",
      "  Downloading pyarrow-7.0.0-cp310-cp310-manylinux_2_17_x86_64.manylinux2014_x86_64.whl (26.7 MB)\r\n",
      "\u001b[2K     \u001b[90m━━━━━━━━━━━━━━━━━━━━━━━━━━━━━━━━━━━━━━━━\u001b[0m \u001b[32m26.7/26.7 MB\u001b[0m \u001b[31m63.0 MB/s\u001b[0m eta \u001b[36m0:00:00\u001b[0m\r\n",
      "\u001b[?25hCollecting autofaiss<3,>=2.9.6 (from clip-retrieval)\r\n",
      "  Downloading autofaiss-2.15.8-py3-none-any.whl (70 kB)\r\n",
      "\u001b[2K     \u001b[90m━━━━━━━━━━━━━━━━━━━━━━━━━━━━━━━━━━━━━━━━\u001b[0m \u001b[32m70.1/70.1 kB\u001b[0m \u001b[31m5.1 MB/s\u001b[0m eta \u001b[36m0:00:00\u001b[0m\r\n",
      "\u001b[?25hCollecting webdataset<0.3,>=0.2 (from clip-retrieval)\r\n",
      "  Downloading webdataset-0.2.65-py3-none-any.whl (62 kB)\r\n",
      "\u001b[2K     \u001b[90m━━━━━━━━━━━━━━━━━━━━━━━━━━━━━━━━━━━━━━━━\u001b[0m \u001b[32m62.8/62.8 kB\u001b[0m \u001b[31m4.1 MB/s\u001b[0m eta \u001b[36m0:00:00\u001b[0m\r\n",
      "\u001b[?25hRequirement already satisfied: h5py<4,>=3.1.0 in /opt/conda/lib/python3.10/site-packages (from clip-retrieval) (3.9.0)\r\n",
      "Requirement already satisfied: prometheus-client<1,>=0.13.1 in /opt/conda/lib/python3.10/site-packages (from clip-retrieval) (0.17.0)\r\n",
      "Collecting fsspec==2022.11.0 (from clip-retrieval)\r\n",
      "  Downloading fsspec-2022.11.0-py3-none-any.whl (139 kB)\r\n",
      "\u001b[2K     \u001b[90m━━━━━━━━━━━━━━━━━━━━━━━━━━━━━━━━━━━━━━\u001b[0m \u001b[32m139.5/139.5 kB\u001b[0m \u001b[31m12.6 MB/s\u001b[0m eta \u001b[36m0:00:00\u001b[0m\r\n",
      "\u001b[?25hCollecting sentence-transformers<3,>=2.2.0 (from clip-retrieval)\r\n",
      "  Downloading sentence-transformers-2.2.2.tar.gz (85 kB)\r\n",
      "\u001b[2K     \u001b[90m━━━━━━━━━━━━━━━━━━━━━━━━━━━━━━━━━━━━━━━━\u001b[0m \u001b[32m86.0/86.0 kB\u001b[0m \u001b[31m7.3 MB/s\u001b[0m eta \u001b[36m0:00:00\u001b[0m\r\n",
      "\u001b[?25h  Preparing metadata (setup.py) ... \u001b[?25l-\b \bdone\r\n",
      "\u001b[?25hCollecting wandb<0.13,>=0.12.10 (from clip-retrieval)\r\n",
      "  Downloading wandb-0.12.21-py2.py3-none-any.whl (1.8 MB)\r\n",
      "\u001b[2K     \u001b[90m━━━━━━━━━━━━━━━━━━━━━━━━━━━━━━━━━━━━━━━━\u001b[0m \u001b[32m1.8/1.8 MB\u001b[0m \u001b[31m66.6 MB/s\u001b[0m eta \u001b[36m0:00:00\u001b[0m\r\n",
      "\u001b[?25hCollecting open-clip-torch<3.0.0,>=2.0.0 (from clip-retrieval)\r\n",
      "  Downloading open_clip_torch-2.23.0-py3-none-any.whl (1.5 MB)\r\n",
      "\u001b[2K     \u001b[90m━━━━━━━━━━━━━━━━━━━━━━━━━━━━━━━━━━━━━━━━\u001b[0m \u001b[32m1.5/1.5 MB\u001b[0m \u001b[31m54.6 MB/s\u001b[0m eta \u001b[36m0:00:00\u001b[0m\r\n",
      "\u001b[?25hRequirement already satisfied: requests<3,>=2.27.1 in /opt/conda/lib/python3.10/site-packages (from clip-retrieval) (2.31.0)\r\n",
      "Requirement already satisfied: aiohttp<4,>=3.8.1 in /opt/conda/lib/python3.10/site-packages (from clip-retrieval) (3.8.4)\r\n",
      "Collecting multilingual-clip<2,>=1.0.10 (from clip-retrieval)\r\n",
      "  Downloading multilingual_clip-1.0.10-py3-none-any.whl (20 kB)\r\n",
      "Requirement already satisfied: urllib3<2 in /opt/conda/lib/python3.10/site-packages (from clip-retrieval) (1.26.15)\r\n",
      "Collecting scipy<1.9.2 (from clip-retrieval)\r\n",
      "  Downloading scipy-1.9.1-cp310-cp310-manylinux_2_17_x86_64.manylinux2014_x86_64.whl (43.9 MB)\r\n",
      "\u001b[2K     \u001b[90m━━━━━━━━━━━━━━━━━━━━━━━━━━━━━━━━━━━━━━━━\u001b[0m \u001b[32m43.9/43.9 MB\u001b[0m \u001b[31m33.1 MB/s\u001b[0m eta \u001b[36m0:00:00\u001b[0m\r\n",
      "\u001b[?25hRequirement already satisfied: attrs>=17.3.0 in /opt/conda/lib/python3.10/site-packages (from aiohttp<4,>=3.8.1->clip-retrieval) (23.1.0)\r\n",
      "Requirement already satisfied: charset-normalizer<4.0,>=2.0 in /opt/conda/lib/python3.10/site-packages (from aiohttp<4,>=3.8.1->clip-retrieval) (3.1.0)\r\n",
      "Requirement already satisfied: multidict<7.0,>=4.5 in /opt/conda/lib/python3.10/site-packages (from aiohttp<4,>=3.8.1->clip-retrieval) (6.0.4)\r\n",
      "Requirement already satisfied: async-timeout<5.0,>=4.0.0a3 in /opt/conda/lib/python3.10/site-packages (from aiohttp<4,>=3.8.1->clip-retrieval) (4.0.2)\r\n",
      "Requirement already satisfied: yarl<2.0,>=1.0 in /opt/conda/lib/python3.10/site-packages (from aiohttp<4,>=3.8.1->clip-retrieval) (1.9.2)\r\n",
      "Requirement already satisfied: frozenlist>=1.1.1 in /opt/conda/lib/python3.10/site-packages (from aiohttp<4,>=3.8.1->clip-retrieval) (1.3.3)\r\n",
      "Requirement already satisfied: aiosignal>=1.1.2 in /opt/conda/lib/python3.10/site-packages (from aiohttp<4,>=3.8.1->clip-retrieval) (1.3.1)\r\n",
      "Collecting embedding-reader<2,>=1.5.1 (from autofaiss<3,>=2.9.6->clip-retrieval)\r\n",
      "  Downloading embedding_reader-1.5.1-py3-none-any.whl (18 kB)\r\n",
      "Requirement already satisfied: ftfy in /opt/conda/lib/python3.10/site-packages (from clip-anytorch<3,>=2.5.0->clip-retrieval) (6.1.1)\r\n",
      "Requirement already satisfied: regex in /opt/conda/lib/python3.10/site-packages (from clip-anytorch<3,>=2.5.0->clip-retrieval) (2023.6.3)\r\n",
      "Requirement already satisfied: six in /opt/conda/lib/python3.10/site-packages (from fire<0.5.0,>=0.4.0->clip-retrieval) (1.16.0)\r\n",
      "Requirement already satisfied: termcolor in /opt/conda/lib/python3.10/site-packages (from fire<0.5.0,>=0.4.0->clip-retrieval) (2.3.0)\r\n",
      "Requirement already satisfied: Werkzeug>=2.3.7 in /opt/conda/lib/python3.10/site-packages (from flask<3,>=2.0.3->clip-retrieval) (2.3.7)\r\n",
      "Requirement already satisfied: Jinja2>=3.1.2 in /opt/conda/lib/python3.10/site-packages (from flask<3,>=2.0.3->clip-retrieval) (3.1.2)\r\n",
      "Requirement already satisfied: itsdangerous>=2.1.2 in /opt/conda/lib/python3.10/site-packages (from flask<3,>=2.0.3->clip-retrieval) (2.1.2)\r\n",
      "Requirement already satisfied: click>=8.1.3 in /opt/conda/lib/python3.10/site-packages (from flask<3,>=2.0.3->clip-retrieval) (8.1.7)\r\n",
      "Requirement already satisfied: blinker>=1.6.2 in /opt/conda/lib/python3.10/site-packages (from flask<3,>=2.0.3->clip-retrieval) (1.6.2)\r\n",
      "Collecting aniso8601>=0.82 (from flask-restful<1,>=0.3.9->clip-retrieval)\r\n",
      "  Downloading aniso8601-9.0.1-py2.py3-none-any.whl (52 kB)\r\n",
      "\u001b[2K     \u001b[90m━━━━━━━━━━━━━━━━━━━━━━━━━━━━━━━━━━━━━━━━\u001b[0m \u001b[32m52.8/52.8 kB\u001b[0m \u001b[31m3.9 MB/s\u001b[0m eta \u001b[36m0:00:00\u001b[0m\r\n",
      "\u001b[?25hRequirement already satisfied: pytz in /opt/conda/lib/python3.10/site-packages (from flask-restful<1,>=0.3.9->clip-retrieval) (2023.3)\r\n",
      "Requirement already satisfied: opencv-python-headless<5,>=4.5.5.62 in /opt/conda/lib/python3.10/site-packages (from img2dataset<2,>=1.25.5->clip-retrieval) (4.8.0.76)\r\n",
      "Collecting exifread-nocycle<4,>=3.0.1 (from img2dataset<2,>=1.25.5->clip-retrieval)\r\n",
      "  Downloading ExifRead_nocycle-3.0.1-py3-none-any.whl (39 kB)\r\n",
      "Requirement already satisfied: albumentations<2,>=1.1.0 in /opt/conda/lib/python3.10/site-packages (from img2dataset<2,>=1.25.5->clip-retrieval) (1.3.1)\r\n",
      "Collecting dataclasses<1.0.0,>=0.6 (from img2dataset<2,>=1.25.5->clip-retrieval)\r\n",
      "  Downloading dataclasses-0.6-py3-none-any.whl (14 kB)\r\n",
      "Requirement already satisfied: transformers in /opt/conda/lib/python3.10/site-packages (from multilingual-clip<2,>=1.0.10->clip-retrieval) (4.33.0)\r\n",
      "Requirement already satisfied: huggingface-hub in /opt/conda/lib/python3.10/site-packages (from open-clip-torch<3.0.0,>=2.0.0->clip-retrieval) (0.16.4)\r\n",
      "Requirement already satisfied: sentencepiece in /opt/conda/lib/python3.10/site-packages (from open-clip-torch<3.0.0,>=2.0.0->clip-retrieval) (0.1.99)\r\n",
      "Requirement already satisfied: protobuf in /opt/conda/lib/python3.10/site-packages (from open-clip-torch<3.0.0,>=2.0.0->clip-retrieval) (3.20.3)\r\n",
      "Requirement already satisfied: timm in /opt/conda/lib/python3.10/site-packages (from open-clip-torch<3.0.0,>=2.0.0->clip-retrieval) (0.9.7)\r\n",
      "Requirement already satisfied: python-dateutil>=2.8.1 in /opt/conda/lib/python3.10/site-packages (from pandas<2,>=1.1.5->clip-retrieval) (2.8.2)\r\n",
      "Requirement already satisfied: idna<4,>=2.5 in /opt/conda/lib/python3.10/site-packages (from requests<3,>=2.27.1->clip-retrieval) (3.4)\r\n",
      "Requirement already satisfied: certifi>=2017.4.17 in /opt/conda/lib/python3.10/site-packages (from requests<3,>=2.27.1->clip-retrieval) (2023.7.22)\r\n",
      "Requirement already satisfied: scikit-learn in /opt/conda/lib/python3.10/site-packages (from sentence-transformers<3,>=2.2.0->clip-retrieval) (1.2.2)\r\n",
      "Requirement already satisfied: nltk in /opt/conda/lib/python3.10/site-packages (from sentence-transformers<3,>=2.2.0->clip-retrieval) (3.2.4)\r\n",
      "Requirement already satisfied: typing-extensions in /opt/conda/lib/python3.10/site-packages (from torch<2,>=1.7.1->clip-retrieval) (4.6.3)\r\n",
      "Collecting nvidia-cuda-runtime-cu11==11.7.99 (from torch<2,>=1.7.1->clip-retrieval)\r\n",
      "  Downloading nvidia_cuda_runtime_cu11-11.7.99-py3-none-manylinux1_x86_64.whl (849 kB)\r\n",
      "\u001b[2K     \u001b[90m━━━━━━━━━━━━━━━━━━━━━━━━━━━━━━━━━━━━━━\u001b[0m \u001b[32m849.3/849.3 kB\u001b[0m \u001b[31m49.7 MB/s\u001b[0m eta \u001b[36m0:00:00\u001b[0m\r\n",
      "\u001b[?25hCollecting nvidia-cudnn-cu11==8.5.0.96 (from torch<2,>=1.7.1->clip-retrieval)\r\n",
      "  Downloading nvidia_cudnn_cu11-8.5.0.96-2-py3-none-manylinux1_x86_64.whl (557.1 MB)\r\n",
      "\u001b[2K     \u001b[90m━━━━━━━━━━━━━━━━━━━━━━━━━━━━━━━━━━━━━━━\u001b[0m \u001b[32m557.1/557.1 MB\u001b[0m \u001b[31m2.6 MB/s\u001b[0m eta \u001b[36m0:00:00\u001b[0m\r\n",
      "\u001b[?25hCollecting nvidia-cublas-cu11==11.10.3.66 (from torch<2,>=1.7.1->clip-retrieval)\r\n",
      "  Downloading nvidia_cublas_cu11-11.10.3.66-py3-none-manylinux1_x86_64.whl (317.1 MB)\r\n",
      "\u001b[2K     \u001b[90m━━━━━━━━━━━━━━━━━━━━━━━━━━━━━━━━━━━━━━━\u001b[0m \u001b[32m317.1/317.1 MB\u001b[0m \u001b[31m4.3 MB/s\u001b[0m eta \u001b[36m0:00:00\u001b[0m\r\n",
      "\u001b[?25hCollecting nvidia-cuda-nvrtc-cu11==11.7.99 (from torch<2,>=1.7.1->clip-retrieval)\r\n",
      "  Downloading nvidia_cuda_nvrtc_cu11-11.7.99-2-py3-none-manylinux1_x86_64.whl (21.0 MB)\r\n",
      "\u001b[2K     \u001b[90m━━━━━━━━━━━━━━━━━━━━━━━━━━━━━━━━━━━━━━━━\u001b[0m \u001b[32m21.0/21.0 MB\u001b[0m \u001b[31m14.3 MB/s\u001b[0m eta \u001b[36m0:00:00\u001b[0m\r\n",
      "\u001b[?25hRequirement already satisfied: setuptools in /opt/conda/lib/python3.10/site-packages (from nvidia-cublas-cu11==11.10.3.66->torch<2,>=1.7.1->clip-retrieval) (68.0.0)\r\n",
      "Requirement already satisfied: wheel in /opt/conda/lib/python3.10/site-packages (from nvidia-cublas-cu11==11.10.3.66->torch<2,>=1.7.1->clip-retrieval) (0.40.0)\r\n",
      "INFO: pip is looking at multiple versions of torchvision to determine which version is compatible with other requirements. This could take a while.\r\n",
      "Collecting torchvision<2,>=0.10.1 (from clip-retrieval)\r\n",
      "  Downloading torchvision-0.15.2-cp310-cp310-manylinux1_x86_64.whl (6.0 MB)\r\n",
      "\u001b[2K     \u001b[90m━━━━━━━━━━━━━━━━━━━━━━━━━━━━━━━━━━━━━━━━\u001b[0m \u001b[32m6.0/6.0 MB\u001b[0m \u001b[31m9.5 MB/s\u001b[0m eta \u001b[36m0:00:00\u001b[0m\r\n",
      "\u001b[?25h  Downloading torchvision-0.15.1-cp310-cp310-manylinux1_x86_64.whl (6.0 MB)\r\n",
      "\u001b[2K     \u001b[90m━━━━━━━━━━━━━━━━━━━━━━━━━━━━━━━━━━━━━━━━\u001b[0m \u001b[32m6.0/6.0 MB\u001b[0m \u001b[31m14.9 MB/s\u001b[0m eta \u001b[36m0:00:00\u001b[0m\r\n",
      "\u001b[?25h  Downloading torchvision-0.14.1-cp310-cp310-manylinux1_x86_64.whl (24.2 MB)\r\n",
      "\u001b[2K     \u001b[90m━━━━━━━━━━━━━━━━━━━━━━━━━━━━━━━━━━━━━━━━\u001b[0m \u001b[32m24.2/24.2 MB\u001b[0m \u001b[31m20.6 MB/s\u001b[0m eta \u001b[36m0:00:00\u001b[0m\r\n",
      "\u001b[?25hRequirement already satisfied: pillow!=8.3.*,>=5.3.0 in /opt/conda/lib/python3.10/site-packages (from torchvision<2,>=0.10.1->clip-retrieval) (9.5.0)\r\n",
      "Requirement already satisfied: GitPython>=1.0.0 in /opt/conda/lib/python3.10/site-packages (from wandb<0.13,>=0.12.10->clip-retrieval) (3.1.31)\r\n",
      "Requirement already satisfied: promise<3,>=2.0 in /opt/conda/lib/python3.10/site-packages (from wandb<0.13,>=0.12.10->clip-retrieval) (2.3)\r\n",
      "Collecting shortuuid>=0.5.0 (from wandb<0.13,>=0.12.10->clip-retrieval)\r\n",
      "  Downloading shortuuid-1.0.11-py3-none-any.whl (10 kB)\r\n",
      "Requirement already satisfied: psutil>=5.0.0 in /opt/conda/lib/python3.10/site-packages (from wandb<0.13,>=0.12.10->clip-retrieval) (5.9.3)\r\n",
      "Requirement already satisfied: sentry-sdk>=1.0.0 in /opt/conda/lib/python3.10/site-packages (from wandb<0.13,>=0.12.10->clip-retrieval) (1.30.0)\r\n",
      "Requirement already satisfied: docker-pycreds>=0.4.0 in /opt/conda/lib/python3.10/site-packages (from wandb<0.13,>=0.12.10->clip-retrieval) (0.4.0)\r\n",
      "Requirement already satisfied: PyYAML in /opt/conda/lib/python3.10/site-packages (from wandb<0.13,>=0.12.10->clip-retrieval) (6.0)\r\n",
      "Requirement already satisfied: pathtools in /opt/conda/lib/python3.10/site-packages (from wandb<0.13,>=0.12.10->clip-retrieval) (0.1.2)\r\n",
      "Requirement already satisfied: setproctitle in /opt/conda/lib/python3.10/site-packages (from wandb<0.13,>=0.12.10->clip-retrieval) (1.3.2)\r\n",
      "Collecting braceexpand (from webdataset<0.3,>=0.2->clip-retrieval)\r\n",
      "  Downloading braceexpand-0.1.7-py2.py3-none-any.whl (5.9 kB)\r\n",
      "Requirement already satisfied: scikit-image>=0.16.1 in /opt/conda/lib/python3.10/site-packages (from albumentations<2,>=1.1.0->img2dataset<2,>=1.25.5->clip-retrieval) (0.21.0)\r\n",
      "Requirement already satisfied: qudida>=0.0.4 in /opt/conda/lib/python3.10/site-packages (from albumentations<2,>=1.1.0->img2dataset<2,>=1.25.5->clip-retrieval) (0.0.4)\r\n",
      "Requirement already satisfied: gitdb<5,>=4.0.1 in /opt/conda/lib/python3.10/site-packages (from GitPython>=1.0.0->wandb<0.13,>=0.12.10->clip-retrieval) (4.0.10)\r\n",
      "Requirement already satisfied: filelock in /opt/conda/lib/python3.10/site-packages (from huggingface-hub->open-clip-torch<3.0.0,>=2.0.0->clip-retrieval) (3.12.2)\r\n",
      "Requirement already satisfied: packaging>=20.9 in /opt/conda/lib/python3.10/site-packages (from huggingface-hub->open-clip-torch<3.0.0,>=2.0.0->clip-retrieval) (21.3)\r\n",
      "Requirement already satisfied: MarkupSafe>=2.0 in /opt/conda/lib/python3.10/site-packages (from Jinja2>=3.1.2->flask<3,>=2.0.3->clip-retrieval) (2.1.3)\r\n",
      "Requirement already satisfied: tokenizers!=0.11.3,<0.14,>=0.11.1 in /opt/conda/lib/python3.10/site-packages (from transformers->multilingual-clip<2,>=1.0.10->clip-retrieval) (0.13.3)\r\n",
      "Requirement already satisfied: safetensors>=0.3.1 in /opt/conda/lib/python3.10/site-packages (from transformers->multilingual-clip<2,>=1.0.10->clip-retrieval) (0.3.3)\r\n",
      "Requirement already satisfied: wcwidth>=0.2.5 in /opt/conda/lib/python3.10/site-packages (from ftfy->clip-anytorch<3,>=2.5.0->clip-retrieval) (0.2.6)\r\n",
      "Requirement already satisfied: joblib>=1.1.1 in /opt/conda/lib/python3.10/site-packages (from scikit-learn->sentence-transformers<3,>=2.2.0->clip-retrieval) (1.3.2)\r\n",
      "Requirement already satisfied: threadpoolctl>=2.0.0 in /opt/conda/lib/python3.10/site-packages (from scikit-learn->sentence-transformers<3,>=2.2.0->clip-retrieval) (3.1.0)\r\n",
      "Requirement already satisfied: smmap<6,>=3.0.1 in /opt/conda/lib/python3.10/site-packages (from gitdb<5,>=4.0.1->GitPython>=1.0.0->wandb<0.13,>=0.12.10->clip-retrieval) (5.0.0)\r\n",
      "Requirement already satisfied: pyparsing!=3.0.5,>=2.0.2 in /opt/conda/lib/python3.10/site-packages (from packaging>=20.9->huggingface-hub->open-clip-torch<3.0.0,>=2.0.0->clip-retrieval) (3.0.9)\r\n",
      "Requirement already satisfied: networkx>=2.8 in /opt/conda/lib/python3.10/site-packages (from scikit-image>=0.16.1->albumentations<2,>=1.1.0->img2dataset<2,>=1.25.5->clip-retrieval) (3.1)\r\n",
      "Requirement already satisfied: imageio>=2.27 in /opt/conda/lib/python3.10/site-packages (from scikit-image>=0.16.1->albumentations<2,>=1.1.0->img2dataset<2,>=1.25.5->clip-retrieval) (2.31.1)\r\n",
      "Requirement already satisfied: tifffile>=2022.8.12 in /opt/conda/lib/python3.10/site-packages (from scikit-image>=0.16.1->albumentations<2,>=1.1.0->img2dataset<2,>=1.25.5->clip-retrieval) (2023.4.12)\r\n",
      "Requirement already satisfied: PyWavelets>=1.1.1 in /opt/conda/lib/python3.10/site-packages (from scikit-image>=0.16.1->albumentations<2,>=1.1.0->img2dataset<2,>=1.25.5->clip-retrieval) (1.4.1)\r\n",
      "Requirement already satisfied: lazy_loader>=0.2 in /opt/conda/lib/python3.10/site-packages (from scikit-image>=0.16.1->albumentations<2,>=1.1.0->img2dataset<2,>=1.25.5->clip-retrieval) (0.2)\r\n",
      "Building wheels for collected packages: fire, sentence-transformers\r\n",
      "  Building wheel for fire (setup.py) ... \u001b[?25l-\b \b\\\b \bdone\r\n",
      "\u001b[?25h  Created wheel for fire: filename=fire-0.4.0-py2.py3-none-any.whl size=115927 sha256=7fa02646a7893531726cfd0ace50256f6af1396433ec744266f736e666f589ac\r\n",
      "  Stored in directory: /root/.cache/pip/wheels/26/9a/dd/2818b1b023daf077ec3e625c47ae446aca587a5abe48e05212\r\n",
      "  Building wheel for sentence-transformers (setup.py) ... \u001b[?25l-\b \b\\\b \bdone\r\n",
      "\u001b[?25h  Created wheel for sentence-transformers: filename=sentence_transformers-2.2.2-py3-none-any.whl size=125926 sha256=36b448e10792f14c39c4b9a623b96761f33f248ca599fb1f81bac9093ff01aeb\r\n",
      "  Stored in directory: /root/.cache/pip/wheels/62/f2/10/1e606fd5f02395388f74e7462910fe851042f97238cbbd902f\r\n",
      "Successfully built fire sentence-transformers\r\n",
      "Installing collected packages: faiss-cpu, exifread-nocycle, dataclasses, braceexpand, aniso8601, webdataset, shortuuid, scipy, pyarrow, nvidia-cuda-runtime-cu11, nvidia-cuda-nvrtc-cu11, nvidia-cublas-cu11, fsspec, fire, pandas, nvidia-cudnn-cu11, wandb, torch, flask-restful, flask-cors, embedding-reader, torchvision, multilingual-clip, autofaiss, sentence-transformers, img2dataset, clip-anytorch, open-clip-torch, clip-retrieval\r\n",
      "  Attempting uninstall: scipy\r\n",
      "    Found existing installation: scipy 1.11.2\r\n",
      "    Uninstalling scipy-1.11.2:\r\n",
      "      Successfully uninstalled scipy-1.11.2\r\n",
      "  Attempting uninstall: pyarrow\r\n",
      "    Found existing installation: pyarrow 9.0.0\r\n",
      "    Uninstalling pyarrow-9.0.0:\r\n",
      "      Successfully uninstalled pyarrow-9.0.0\r\n",
      "  Attempting uninstall: fsspec\r\n",
      "    Found existing installation: fsspec 2023.9.0\r\n",
      "    Uninstalling fsspec-2023.9.0:\r\n",
      "      Successfully uninstalled fsspec-2023.9.0\r\n",
      "  Attempting uninstall: pandas\r\n",
      "    Found existing installation: pandas 2.0.3\r\n",
      "    Uninstalling pandas-2.0.3:\r\n",
      "      Successfully uninstalled pandas-2.0.3\r\n",
      "  Attempting uninstall: wandb\r\n",
      "    Found existing installation: wandb 0.15.9\r\n",
      "    Uninstalling wandb-0.15.9:\r\n",
      "      Successfully uninstalled wandb-0.15.9\r\n",
      "  Attempting uninstall: torch\r\n",
      "    Found existing installation: torch 2.1.0\r\n",
      "    Uninstalling torch-2.1.0:\r\n",
      "      Successfully uninstalled torch-2.1.0\r\n",
      "  Attempting uninstall: torchvision\r\n",
      "    Found existing installation: torchvision 0.16.0\r\n",
      "    Uninstalling torchvision-0.16.0:\r\n",
      "      Successfully uninstalled torchvision-0.16.0\r\n",
      "\u001b[31mERROR: pip's dependency resolver does not currently take into account all the packages that are installed. This behaviour is the source of the following dependency conflicts.\r\n",
      "apache-beam 2.46.0 requires dill<0.3.2,>=0.3.1.1, but you have dill 0.3.7 which is incompatible.\r\n",
      "beatrix-jupyterlab 2023.621.222118 requires jupyter-server~=1.16, but you have jupyter-server 2.6.0 which is incompatible.\r\n",
      "featuretools 1.27.0 requires scipy>=1.10.0, but you have scipy 1.9.1 which is incompatible.\r\n",
      "fitter 1.6.0 requires pandas<3.0.0,>=2.0.3, but you have pandas 1.5.3 which is incompatible.\r\n",
      "gcsfs 2023.6.0 requires fsspec==2023.6.0, but you have fsspec 2022.11.0 which is incompatible.\r\n",
      "momepy 0.6.0 requires shapely>=2, but you have shapely 1.8.5.post1 which is incompatible.\r\n",
      "pymc3 3.11.5 requires numpy<1.22.2,>=1.15.0, but you have numpy 1.23.5 which is incompatible.\r\n",
      "pymc3 3.11.5 requires scipy<1.8.0,>=1.7.3, but you have scipy 1.9.1 which is incompatible.\r\n",
      "s3fs 2023.9.0 requires fsspec==2023.9.0, but you have fsspec 2022.11.0 which is incompatible.\r\n",
      "torchaudio 2.0.1+cpu requires torch==2.0.0, but you have torch 1.13.1 which is incompatible.\r\n",
      "torchdata 0.6.0 requires torch==2.0.0, but you have torch 1.13.1 which is incompatible.\r\n",
      "torchtext 0.15.1+cpu requires torch==2.0.0, but you have torch 1.13.1 which is incompatible.\r\n",
      "woodwork 0.26.0 requires scipy>=1.10.0, but you have scipy 1.9.1 which is incompatible.\u001b[0m\u001b[31m\r\n",
      "\u001b[0mSuccessfully installed aniso8601-9.0.1 autofaiss-2.15.8 braceexpand-0.1.7 clip-anytorch-2.5.2 clip-retrieval-2.37.0 dataclasses-0.6 embedding-reader-1.5.1 exifread-nocycle-3.0.1 faiss-cpu-1.7.4 fire-0.4.0 flask-cors-3.0.10 flask-restful-0.3.10 fsspec-2022.11.0 img2dataset-1.42.0 multilingual-clip-1.0.10 nvidia-cublas-cu11-11.10.3.66 nvidia-cuda-nvrtc-cu11-11.7.99 nvidia-cuda-runtime-cu11-11.7.99 nvidia-cudnn-cu11-8.5.0.96 open-clip-torch-2.23.0 pandas-1.5.3 pyarrow-7.0.0 scipy-1.9.1 sentence-transformers-2.2.2 shortuuid-1.0.11 torch-1.13.1 torchvision-0.14.1 wandb-0.12.21 webdataset-0.2.65\r\n"
     ]
    }
   ],
   "source": [
    "!pip install -r requirements.txt\n",
    "!pip install clip-retrieval "
   ]
  },
  {
   "cell_type": "code",
   "execution_count": 9,
   "id": "cc066aa3",
   "metadata": {
    "execution": {
     "iopub.execute_input": "2023-10-28T14:49:04.432944Z",
     "iopub.status.busy": "2023-10-28T14:49:04.432600Z",
     "iopub.status.idle": "2023-10-28T14:49:10.960308Z",
     "shell.execute_reply": "2023-10-28T14:49:10.959128Z"
    },
    "papermill": {
     "duration": 6.62315,
     "end_time": "2023-10-28T14:49:10.962980",
     "exception": false,
     "start_time": "2023-10-28T14:49:04.339830",
     "status": "completed"
    },
    "tags": []
   },
   "outputs": [
    {
     "name": "stdout",
     "output_type": "stream",
     "text": [
      "accelerate configuration saved at /root/.cache/huggingface/accelerate/default_config.yaml\r\n"
     ]
    }
   ],
   "source": [
    "!accelerate config default"
   ]
  },
  {
   "cell_type": "code",
   "execution_count": 10,
   "id": "aab832cb",
   "metadata": {
    "execution": {
     "iopub.execute_input": "2023-10-28T14:49:11.152253Z",
     "iopub.status.busy": "2023-10-28T14:49:11.151893Z",
     "iopub.status.idle": "2023-10-28T14:49:11.213011Z",
     "shell.execute_reply": "2023-10-28T14:49:11.211148Z"
    },
    "papermill": {
     "duration": 0.158309,
     "end_time": "2023-10-28T14:49:11.215891",
     "exception": false,
     "start_time": "2023-10-28T14:49:11.057582",
     "status": "completed"
    },
    "tags": []
   },
   "outputs": [
    {
     "data": {
      "text/plain": [
       "0"
      ]
     },
     "execution_count": 10,
     "metadata": {},
     "output_type": "execute_result"
    }
   ],
   "source": [
    "import gc\n",
    "gc.collect()"
   ]
  },
  {
   "cell_type": "code",
   "execution_count": 11,
   "id": "98d145fd",
   "metadata": {
    "execution": {
     "iopub.execute_input": "2023-10-28T14:49:11.425598Z",
     "iopub.status.busy": "2023-10-28T14:49:11.425209Z",
     "iopub.status.idle": "2023-10-28T14:49:22.927395Z",
     "shell.execute_reply": "2023-10-28T14:49:22.925897Z"
    },
    "papermill": {
     "duration": 11.619576,
     "end_time": "2023-10-28T14:49:22.929537",
     "exception": false,
     "start_time": "2023-10-28T14:49:11.309961",
     "status": "completed"
    },
    "tags": []
   },
   "outputs": [
    {
     "name": "stdout",
     "output_type": "stream",
     "text": [
      "Collecting diffusers[torch]\r\n",
      "  Downloading diffusers-0.21.4-py3-none-any.whl (1.5 MB)\r\n",
      "\u001b[2K     \u001b[90m━━━━━━━━━━━━━━━━━━━━━━━━━━━━━━━━━━━━━━━━\u001b[0m \u001b[32m1.5/1.5 MB\u001b[0m \u001b[31m15.0 MB/s\u001b[0m eta \u001b[36m0:00:00\u001b[0m\r\n",
      "\u001b[?25hRequirement already satisfied: transformers in /opt/conda/lib/python3.10/site-packages (4.33.0)\r\n",
      "Requirement already satisfied: Pillow in /opt/conda/lib/python3.10/site-packages (from diffusers[torch]) (9.5.0)\r\n",
      "Requirement already satisfied: filelock in /opt/conda/lib/python3.10/site-packages (from diffusers[torch]) (3.12.2)\r\n",
      "Requirement already satisfied: huggingface-hub>=0.13.2 in /opt/conda/lib/python3.10/site-packages (from diffusers[torch]) (0.16.4)\r\n",
      "Requirement already satisfied: importlib-metadata in /opt/conda/lib/python3.10/site-packages (from diffusers[torch]) (6.7.0)\r\n",
      "Requirement already satisfied: numpy in /opt/conda/lib/python3.10/site-packages (from diffusers[torch]) (1.23.5)\r\n",
      "Requirement already satisfied: regex!=2019.12.17 in /opt/conda/lib/python3.10/site-packages (from diffusers[torch]) (2023.6.3)\r\n",
      "Requirement already satisfied: requests in /opt/conda/lib/python3.10/site-packages (from diffusers[torch]) (2.31.0)\r\n",
      "Requirement already satisfied: safetensors>=0.3.1 in /opt/conda/lib/python3.10/site-packages (from diffusers[torch]) (0.3.3)\r\n",
      "Requirement already satisfied: accelerate>=0.11.0 in /opt/conda/lib/python3.10/site-packages (from diffusers[torch]) (0.22.0)\r\n",
      "Requirement already satisfied: torch>=1.4 in /opt/conda/lib/python3.10/site-packages (from diffusers[torch]) (1.13.1)\r\n",
      "Requirement already satisfied: packaging>=20.0 in /opt/conda/lib/python3.10/site-packages (from transformers) (21.3)\r\n",
      "Requirement already satisfied: pyyaml>=5.1 in /opt/conda/lib/python3.10/site-packages (from transformers) (6.0)\r\n",
      "Requirement already satisfied: tokenizers!=0.11.3,<0.14,>=0.11.1 in /opt/conda/lib/python3.10/site-packages (from transformers) (0.13.3)\r\n",
      "Requirement already satisfied: tqdm>=4.27 in /opt/conda/lib/python3.10/site-packages (from transformers) (4.66.1)\r\n",
      "Requirement already satisfied: psutil in /opt/conda/lib/python3.10/site-packages (from accelerate>=0.11.0->diffusers[torch]) (5.9.3)\r\n",
      "Requirement already satisfied: fsspec in /opt/conda/lib/python3.10/site-packages (from huggingface-hub>=0.13.2->diffusers[torch]) (2022.11.0)\r\n",
      "Requirement already satisfied: typing-extensions>=3.7.4.3 in /opt/conda/lib/python3.10/site-packages (from huggingface-hub>=0.13.2->diffusers[torch]) (4.6.3)\r\n",
      "Requirement already satisfied: pyparsing!=3.0.5,>=2.0.2 in /opt/conda/lib/python3.10/site-packages (from packaging>=20.0->transformers) (3.0.9)\r\n",
      "Requirement already satisfied: nvidia-cuda-runtime-cu11==11.7.99 in /opt/conda/lib/python3.10/site-packages (from torch>=1.4->diffusers[torch]) (11.7.99)\r\n",
      "Requirement already satisfied: nvidia-cudnn-cu11==8.5.0.96 in /opt/conda/lib/python3.10/site-packages (from torch>=1.4->diffusers[torch]) (8.5.0.96)\r\n",
      "Requirement already satisfied: nvidia-cublas-cu11==11.10.3.66 in /opt/conda/lib/python3.10/site-packages (from torch>=1.4->diffusers[torch]) (11.10.3.66)\r\n",
      "Requirement already satisfied: nvidia-cuda-nvrtc-cu11==11.7.99 in /opt/conda/lib/python3.10/site-packages (from torch>=1.4->diffusers[torch]) (11.7.99)\r\n",
      "Requirement already satisfied: setuptools in /opt/conda/lib/python3.10/site-packages (from nvidia-cublas-cu11==11.10.3.66->torch>=1.4->diffusers[torch]) (68.0.0)\r\n",
      "Requirement already satisfied: wheel in /opt/conda/lib/python3.10/site-packages (from nvidia-cublas-cu11==11.10.3.66->torch>=1.4->diffusers[torch]) (0.40.0)\r\n",
      "Requirement already satisfied: zipp>=0.5 in /opt/conda/lib/python3.10/site-packages (from importlib-metadata->diffusers[torch]) (3.15.0)\r\n",
      "Requirement already satisfied: charset-normalizer<4,>=2 in /opt/conda/lib/python3.10/site-packages (from requests->diffusers[torch]) (3.1.0)\r\n",
      "Requirement already satisfied: idna<4,>=2.5 in /opt/conda/lib/python3.10/site-packages (from requests->diffusers[torch]) (3.4)\r\n",
      "Requirement already satisfied: urllib3<3,>=1.21.1 in /opt/conda/lib/python3.10/site-packages (from requests->diffusers[torch]) (1.26.15)\r\n",
      "Requirement already satisfied: certifi>=2017.4.17 in /opt/conda/lib/python3.10/site-packages (from requests->diffusers[torch]) (2023.7.22)\r\n",
      "Installing collected packages: diffusers\r\n",
      "Successfully installed diffusers-0.21.4\r\n"
     ]
    }
   ],
   "source": [
    "!pip install diffusers[\"torch\"] transformers"
   ]
  },
  {
   "cell_type": "code",
   "execution_count": 12,
   "id": "e78b7790",
   "metadata": {
    "execution": {
     "iopub.execute_input": "2023-10-28T14:49:23.121476Z",
     "iopub.status.busy": "2023-10-28T14:49:23.121123Z",
     "iopub.status.idle": "2023-10-28T14:49:27.563520Z",
     "shell.execute_reply": "2023-10-28T14:49:27.561383Z"
    },
    "papermill": {
     "duration": 4.542266,
     "end_time": "2023-10-28T14:49:27.566416",
     "exception": false,
     "start_time": "2023-10-28T14:49:23.024150",
     "status": "completed"
    },
    "tags": []
   },
   "outputs": [
    {
     "name": "stdout",
     "output_type": "stream",
     "text": [
      "dill 0.3.7 is installed but dill<0.3.2,>=0.3.1.1 is required\r\n",
      "Redoing requirement with just package name...\r\n",
      "jupyter-server 2.6.0 is installed but jupyter-server~=1.16 is required\r\n",
      "Redoing requirement with just package name...\r\n",
      "botocore 1.31.17 is installed but botocore<1.30.0,>=1.29.100 is required\r\n",
      "Redoing requirement with just package name...\r\n",
      "numpy 1.23.5 is installed but numpy>=1.25.0 is required\r\n",
      "Redoing requirement with just package name...\r\n",
      "google-api-python-client 2.97.0 is installed but google-api-python-client==1.8.0 is required\r\n",
      "Redoing requirement with just package name...\r\n",
      "importlib-metadata 6.7.0 is installed but importlib-metadata<6.0.0,>=5.1.0 is required\r\n",
      "Redoing requirement with just package name...\r\n",
      "The 'google.auth>=1.14.1' distribution was not found and is required by the application\r\n",
      "Skipping google.auth\r\n",
      "scipy 1.9.1 is installed but scipy>=1.10.0 is required\r\n",
      "Redoing requirement with just package name...\r\n",
      "pandas 1.5.3 is installed but pandas<3.0.0,>=2.0.3 is required\r\n",
      "Redoing requirement with just package name...\r\n",
      "fsspec 2022.11.0 is installed but fsspec==2023.6.0 is required\r\n",
      "Redoing requirement with just package name...\r\n",
      "google-api-core 2.11.1 is installed but google-api-core[grpc]<2.0.0dev,>=1.22.2 is required\r\n",
      "Redoing requirement with just package name...\r\n",
      "google-api-core 2.11.1 is installed but google-api-core[grpc]<2.0.0dev,>=1.14.0 is required\r\n",
      "Redoing requirement with just package name...\r\n",
      "jupyter-lsp 1.5.1 is installed but jupyter-lsp>=2.0.0 is required\r\n",
      "Redoing requirement with just package name...\r\n",
      "google-cloud-storage 1.44.0 is installed but google-cloud-storage<3,>=2.2.1 is required\r\n",
      "Redoing requirement with just package name...\r\n",
      "Shapely 1.8.5.post1 is installed but shapely>=2 is required\r\n",
      "Redoing requirement with just package name...\r\n",
      "importlib-metadata 6.7.0 is installed but importlib-metadata~=6.0.0 is required\r\n",
      "Redoing requirement with just package name...\r\n",
      "numpy 1.23.5 is installed but numpy<1.22.2,>=1.15.0 is required\r\n",
      "Redoing requirement with just package name...\r\n",
      "scipy 1.9.1 is installed but scipy<1.8.0,>=1.7.3 is required\r\n",
      "Redoing requirement with just package name...\r\n",
      "packaging 21.3 is installed but packaging>=22.0 is required\r\n",
      "Redoing requirement with just package name...\r\n",
      "fsspec 2022.11.0 is installed but fsspec==2023.9.0 is required\r\n",
      "Redoing requirement with just package name...\r\n",
      "torch 1.13.1 is installed but torch==2.0.0 is required\r\n",
      "Redoing requirement with just package name...\r\n",
      "torch 1.13.1 is installed but torch==2.0.0 is required\r\n",
      "Redoing requirement with just package name...\r\n",
      "torch 1.13.1 is installed but torch==2.0.0 is required\r\n",
      "Redoing requirement with just package name...\r\n",
      "scipy 1.9.1 is installed but scipy>=1.10.0 is required\r\n",
      "Redoing requirement with just package name...\r\n",
      "diffusers 0.21.4 (/opt/conda/lib/python3.10/site-packages)\r\n",
      "Found existing installation: diffusers 0.21.4\r\n",
      "Uninstalling diffusers-0.21.4:\r\n",
      "  Successfully uninstalled diffusers-0.21.4\r\n"
     ]
    }
   ],
   "source": [
    "!pip-autoremove -y diffusers"
   ]
  },
  {
   "cell_type": "code",
   "execution_count": 13,
   "id": "eea0f014",
   "metadata": {
    "execution": {
     "iopub.execute_input": "2023-10-28T14:49:27.757463Z",
     "iopub.status.busy": "2023-10-28T14:49:27.757133Z",
     "iopub.status.idle": "2023-10-28T14:49:52.773942Z",
     "shell.execute_reply": "2023-10-28T14:49:52.772959Z"
    },
    "papermill": {
     "duration": 25.115017,
     "end_time": "2023-10-28T14:49:52.776183",
     "exception": false,
     "start_time": "2023-10-28T14:49:27.661166",
     "status": "completed"
    },
    "tags": []
   },
   "outputs": [
    {
     "name": "stdout",
     "output_type": "stream",
     "text": [
      "Collecting git+https://github.com/huggingface/diffusers\r\n",
      "  Cloning https://github.com/huggingface/diffusers to /tmp/pip-req-build-l5hjy8uf\r\n",
      "  Running command git clone --filter=blob:none --quiet https://github.com/huggingface/diffusers /tmp/pip-req-build-l5hjy8uf\r\n",
      "  Resolved https://github.com/huggingface/diffusers to commit 9135e54e768a59ddcf8ad18818d2ffe69ea3a32a\r\n",
      "  Installing build dependencies ... \u001b[?25l-\b \b\\\b \b|\b \b/\b \b-\b \bdone\r\n",
      "\u001b[?25h  Getting requirements to build wheel ... \u001b[?25l-\b \bdone\r\n",
      "\u001b[?25h  Preparing metadata (pyproject.toml) ... \u001b[?25l-\b \bdone\r\n",
      "\u001b[?25hRequirement already satisfied: importlib-metadata in /opt/conda/lib/python3.10/site-packages (from diffusers==0.22.0.dev0) (6.7.0)\r\n",
      "Requirement already satisfied: filelock in /opt/conda/lib/python3.10/site-packages (from diffusers==0.22.0.dev0) (3.12.2)\r\n",
      "Requirement already satisfied: huggingface-hub>=0.13.2 in /opt/conda/lib/python3.10/site-packages (from diffusers==0.22.0.dev0) (0.16.4)\r\n",
      "Requirement already satisfied: numpy in /opt/conda/lib/python3.10/site-packages (from diffusers==0.22.0.dev0) (1.23.5)\r\n",
      "Requirement already satisfied: regex!=2019.12.17 in /opt/conda/lib/python3.10/site-packages (from diffusers==0.22.0.dev0) (2023.6.3)\r\n",
      "Requirement already satisfied: requests in /opt/conda/lib/python3.10/site-packages (from diffusers==0.22.0.dev0) (2.31.0)\r\n",
      "Requirement already satisfied: safetensors>=0.3.1 in /opt/conda/lib/python3.10/site-packages (from diffusers==0.22.0.dev0) (0.3.3)\r\n",
      "Requirement already satisfied: Pillow in /opt/conda/lib/python3.10/site-packages (from diffusers==0.22.0.dev0) (9.5.0)\r\n",
      "Requirement already satisfied: fsspec in /opt/conda/lib/python3.10/site-packages (from huggingface-hub>=0.13.2->diffusers==0.22.0.dev0) (2022.11.0)\r\n",
      "Requirement already satisfied: tqdm>=4.42.1 in /opt/conda/lib/python3.10/site-packages (from huggingface-hub>=0.13.2->diffusers==0.22.0.dev0) (4.66.1)\r\n",
      "Requirement already satisfied: pyyaml>=5.1 in /opt/conda/lib/python3.10/site-packages (from huggingface-hub>=0.13.2->diffusers==0.22.0.dev0) (6.0)\r\n",
      "Requirement already satisfied: typing-extensions>=3.7.4.3 in /opt/conda/lib/python3.10/site-packages (from huggingface-hub>=0.13.2->diffusers==0.22.0.dev0) (4.6.3)\r\n",
      "Requirement already satisfied: packaging>=20.9 in /opt/conda/lib/python3.10/site-packages (from huggingface-hub>=0.13.2->diffusers==0.22.0.dev0) (21.3)\r\n",
      "Requirement already satisfied: zipp>=0.5 in /opt/conda/lib/python3.10/site-packages (from importlib-metadata->diffusers==0.22.0.dev0) (3.15.0)\r\n",
      "Requirement already satisfied: charset-normalizer<4,>=2 in /opt/conda/lib/python3.10/site-packages (from requests->diffusers==0.22.0.dev0) (3.1.0)\r\n",
      "Requirement already satisfied: idna<4,>=2.5 in /opt/conda/lib/python3.10/site-packages (from requests->diffusers==0.22.0.dev0) (3.4)\r\n",
      "Requirement already satisfied: urllib3<3,>=1.21.1 in /opt/conda/lib/python3.10/site-packages (from requests->diffusers==0.22.0.dev0) (1.26.15)\r\n",
      "Requirement already satisfied: certifi>=2017.4.17 in /opt/conda/lib/python3.10/site-packages (from requests->diffusers==0.22.0.dev0) (2023.7.22)\r\n",
      "Requirement already satisfied: pyparsing!=3.0.5,>=2.0.2 in /opt/conda/lib/python3.10/site-packages (from packaging>=20.9->huggingface-hub>=0.13.2->diffusers==0.22.0.dev0) (3.0.9)\r\n",
      "Building wheels for collected packages: diffusers\r\n",
      "  Building wheel for diffusers (pyproject.toml) ... \u001b[?25l-\b \b\\\b \b|\b \b/\b \b-\b \bdone\r\n",
      "\u001b[?25h  Created wheel for diffusers: filename=diffusers-0.22.0.dev0-py3-none-any.whl size=1602258 sha256=ce4b4c7b469a7cfdef73a90cee56698dfb64ae195de9f06e3469dcc7ab0501eb\r\n",
      "  Stored in directory: /tmp/pip-ephem-wheel-cache-hony5wdz/wheels/f7/7d/99/d361489e5762e3464b3811bc629e94cf5bf5ef44dd5c3c4d52\r\n",
      "Successfully built diffusers\r\n",
      "Installing collected packages: diffusers\r\n",
      "Successfully installed diffusers-0.22.0.dev0\r\n"
     ]
    }
   ],
   "source": [
    "!pip install git+https://github.com/huggingface/diffusers"
   ]
  },
  {
   "cell_type": "code",
   "execution_count": 14,
   "id": "b12bdb09",
   "metadata": {
    "execution": {
     "iopub.execute_input": "2023-10-28T14:49:52.969860Z",
     "iopub.status.busy": "2023-10-28T14:49:52.969509Z",
     "iopub.status.idle": "2023-10-28T14:50:26.821377Z",
     "shell.execute_reply": "2023-10-28T14:50:26.819818Z"
    },
    "papermill": {
     "duration": 33.951728,
     "end_time": "2023-10-28T14:50:26.824093",
     "exception": false,
     "start_time": "2023-10-28T14:49:52.872365",
     "status": "completed"
    },
    "tags": []
   },
   "outputs": [
    {
     "name": "stdout",
     "output_type": "stream",
     "text": [
      "downloading real regularization images: 100%|███| 20/20 [00:24<00:00,  1.24s/it]\r\n"
     ]
    }
   ],
   "source": [
    "!python retrieve.py --class_prompt \"indian roads with traffic\" --class_data_dir /kaggle/working/class_dir/roads --num_class_images 20"
   ]
  },
  {
   "cell_type": "code",
   "execution_count": 15,
   "id": "104aa884",
   "metadata": {
    "execution": {
     "iopub.execute_input": "2023-10-28T14:50:27.020508Z",
     "iopub.status.busy": "2023-10-28T14:50:27.020135Z",
     "iopub.status.idle": "2023-10-28T14:50:27.287409Z",
     "shell.execute_reply": "2023-10-28T14:50:27.285906Z"
    },
    "papermill": {
     "duration": 0.370843,
     "end_time": "2023-10-28T14:50:27.290095",
     "exception": false,
     "start_time": "2023-10-28T14:50:26.919252",
     "status": "completed"
    },
    "tags": []
   },
   "outputs": [
    {
     "data": {
      "application/vnd.jupyter.widget-view+json": {
       "model_id": "63dd4e616cf44de682a9a13dc6482994",
       "version_major": 2,
       "version_minor": 0
      },
      "text/plain": [
       "VBox(children=(HTML(value='<center> <img\\nsrc=https://huggingface.co/front/assets/huggingface_logo-noborder.sv…"
      ]
     },
     "metadata": {},
     "output_type": "display_data"
    }
   ],
   "source": [
    "from huggingface_hub import notebook_login\n",
    "notebook_login()"
   ]
  },
  {
   "cell_type": "code",
   "execution_count": 16,
   "id": "917eab08",
   "metadata": {
    "execution": {
     "iopub.execute_input": "2023-10-28T14:50:27.490852Z",
     "iopub.status.busy": "2023-10-28T14:50:27.490244Z",
     "iopub.status.idle": "2023-10-28T14:50:44.908443Z",
     "shell.execute_reply": "2023-10-28T14:50:44.907535Z"
    },
    "papermill": {
     "duration": 17.522357,
     "end_time": "2023-10-28T14:50:44.910789",
     "exception": false,
     "start_time": "2023-10-28T14:50:27.388432",
     "status": "completed"
    },
    "tags": []
   },
   "outputs": [
    {
     "name": "stdout",
     "output_type": "stream",
     "text": [
      "Traceback (most recent call last):\r\n",
      "  File \"/kaggle/working/diffusers/examples/custom_diffusion/train_custom_diffusion.py\", line 1340, in <module>\r\n",
      "    main(args)\r\n",
      "  File \"/kaggle/working/diffusers/examples/custom_diffusion/train_custom_diffusion.py\", line 779, in main\r\n",
      "    repo_id = create_repo(\r\n",
      "  File \"/opt/conda/lib/python3.10/site-packages/huggingface_hub/utils/_validators.py\", line 118, in _inner_fn\r\n",
      "    return fn(*args, **kwargs)\r\n",
      "  File \"/opt/conda/lib/python3.10/site-packages/huggingface_hub/hf_api.py\", line 2304, in create_repo\r\n",
      "    headers = self._build_hf_headers(token=token, is_write_action=True)\r\n",
      "  File \"/opt/conda/lib/python3.10/site-packages/huggingface_hub/hf_api.py\", line 5008, in _build_hf_headers\r\n",
      "    return build_hf_headers(\r\n",
      "  File \"/opt/conda/lib/python3.10/site-packages/huggingface_hub/utils/_validators.py\", line 118, in _inner_fn\r\n",
      "    return fn(*args, **kwargs)\r\n",
      "  File \"/opt/conda/lib/python3.10/site-packages/huggingface_hub/utils/_headers.py\", line 122, in build_hf_headers\r\n",
      "    _validate_token_to_send(token_to_send, is_write_action=is_write_action)\r\n",
      "  File \"/opt/conda/lib/python3.10/site-packages/huggingface_hub/utils/_headers.py\", line 172, in _validate_token_to_send\r\n",
      "    raise ValueError(\r\n",
      "ValueError: Token is required (write-access action) but no token found. You need to provide a token or be logged in to Hugging Face with `huggingface-cli login` or `huggingface_hub.login`. See https://huggingface.co/settings/tokens.\r\n",
      "Traceback (most recent call last):\r\n",
      "  File \"/opt/conda/bin/accelerate\", line 8, in <module>\r\n",
      "    sys.exit(main())\r\n",
      "  File \"/opt/conda/lib/python3.10/site-packages/accelerate/commands/accelerate_cli.py\", line 45, in main\r\n",
      "    args.func(args)\r\n",
      "  File \"/opt/conda/lib/python3.10/site-packages/accelerate/commands/launch.py\", line 986, in launch_command\r\n",
      "    simple_launcher(args)\r\n",
      "  File \"/opt/conda/lib/python3.10/site-packages/accelerate/commands/launch.py\", line 628, in simple_launcher\r\n",
      "    raise subprocess.CalledProcessError(returncode=process.returncode, cmd=cmd)\r\n",
      "subprocess.CalledProcessError: Command '['/opt/conda/bin/python3.10', 'train_custom_diffusion.py', '--pretrained_model_name_or_path=CompVis/stable-diffusion-v1-4', '--instance_data_dir=/kaggle/input/inst-images/inst-images', '--output_dir=/kaggle/working/output', '--with_prior_preservation', '--real_prior', '--prior_loss_weight=0.3', '--instance_prompt=<new1> photo of traffic', '--resolution=512', '--class_data_dir=/kaggle/working/class_dir/roads/', '--class_prompt=indian roads with traffic', '--num_class_images=20', '--train_batch_size=2', '--learning_rate=1e-5', '--no_safe_serialization', '--lr_warmup_steps=0', '--max_train_steps=5', '--scale_lr', '--hflip', '--modifier_token', '<new1>', '--push_to_hub']' returned non-zero exit status 1.\r\n"
     ]
    }
   ],
   "source": [
    "!accelerate launch train_custom_diffusion.py \\\n",
    " --pretrained_model_name_or_path=\"CompVis/stable-diffusion-v1-4\" \\\n",
    " --instance_data_dir=\"/kaggle/input/inst-images/inst-images\" \\\n",
    " --output_dir=\"/kaggle/working/output\" \\\n",
    " --with_prior_preservation --real_prior --prior_loss_weight=0.3 \\\n",
    " --instance_prompt=\"<new1> photo of traffic\" \\\n",
    " --resolution=512 \\\n",
    " --class_data_dir=\"/kaggle/working/class_dir/roads/\"\\\n",
    " --class_prompt=\"indian roads with traffic\" --num_class_images=20\\\n",
    " --train_batch_size=2 \\\n",
    " --learning_rate=1e-5 \\\n",
    " --no_safe_serialization\\\n",
    " --lr_warmup_steps=0 \\\n",
    " --max_train_steps=5 \\\n",
    " --scale_lr --hflip \\\n",
    " --modifier_token \"<new1>\"\\\n",
    " --push_to_hub"
   ]
  },
  {
   "cell_type": "code",
   "execution_count": 17,
   "id": "6a7b2371",
   "metadata": {
    "execution": {
     "iopub.execute_input": "2023-10-28T14:50:45.105402Z",
     "iopub.status.busy": "2023-10-28T14:50:45.105105Z",
     "iopub.status.idle": "2023-10-28T14:50:45.110843Z",
     "shell.execute_reply": "2023-10-28T14:50:45.109290Z"
    },
    "papermill": {
     "duration": 0.106523,
     "end_time": "2023-10-28T14:50:45.113447",
     "exception": false,
     "start_time": "2023-10-28T14:50:45.006924",
     "status": "completed"
    },
    "tags": []
   },
   "outputs": [
    {
     "name": "stdout",
     "output_type": "stream",
     "text": [
      "svmem(total=33669922816, available=32509132800, percent=3.4, used=682770432, free=1532309504, active=2006515712, inactive=28557758464, buffers=1296707584, cached=30158135296, shared=929792, slab=1403854848)\n"
     ]
    }
   ],
   "source": [
    "import psutil\n",
    "print(psutil.virtual_memory())\n"
   ]
  },
  {
   "cell_type": "code",
   "execution_count": null,
   "id": "cf5d18c5",
   "metadata": {
    "papermill": {
     "duration": 0.099125,
     "end_time": "2023-10-28T14:50:45.309396",
     "exception": false,
     "start_time": "2023-10-28T14:50:45.210271",
     "status": "completed"
    },
    "tags": []
   },
   "outputs": [],
   "source": []
  },
  {
   "cell_type": "code",
   "execution_count": null,
   "id": "1e1444cc",
   "metadata": {
    "papermill": {
     "duration": 0.09687,
     "end_time": "2023-10-28T14:50:45.504958",
     "exception": false,
     "start_time": "2023-10-28T14:50:45.408088",
     "status": "completed"
    },
    "tags": []
   },
   "outputs": [],
   "source": []
  }
 ],
 "metadata": {
  "kernelspec": {
   "display_name": "Python 3",
   "language": "python",
   "name": "python3"
  },
  "language_info": {
   "codemirror_mode": {
    "name": "ipython",
    "version": 3
   },
   "file_extension": ".py",
   "mimetype": "text/x-python",
   "name": "python",
   "nbconvert_exporter": "python",
   "pygments_lexer": "ipython3",
   "version": "3.10.12"
  },
  "papermill": {
   "default_parameters": {},
   "duration": 380.281231,
   "end_time": "2023-10-28T14:50:46.020452",
   "environment_variables": {},
   "exception": null,
   "input_path": "__notebook__.ipynb",
   "output_path": "__notebook__.ipynb",
   "parameters": {},
   "start_time": "2023-10-28T14:44:25.739221",
   "version": "2.4.0"
  },
  "widgets": {
   "application/vnd.jupyter.widget-state+json": {
    "state": {
     "0f9aa7e18eb0487e8caf72586df27eaa": {
      "model_module": "@jupyter-widgets/base",
      "model_module_version": "1.2.0",
      "model_name": "LayoutModel",
      "state": {
       "_model_module": "@jupyter-widgets/base",
       "_model_module_version": "1.2.0",
       "_model_name": "LayoutModel",
       "_view_count": null,
       "_view_module": "@jupyter-widgets/base",
       "_view_module_version": "1.2.0",
       "_view_name": "LayoutView",
       "align_content": null,
       "align_items": null,
       "align_self": null,
       "border": null,
       "bottom": null,
       "display": null,
       "flex": null,
       "flex_flow": null,
       "grid_area": null,
       "grid_auto_columns": null,
       "grid_auto_flow": null,
       "grid_auto_rows": null,
       "grid_column": null,
       "grid_gap": null,
       "grid_row": null,
       "grid_template_areas": null,
       "grid_template_columns": null,
       "grid_template_rows": null,
       "height": null,
       "justify_content": null,
       "justify_items": null,
       "left": null,
       "margin": null,
       "max_height": null,
       "max_width": null,
       "min_height": null,
       "min_width": null,
       "object_fit": null,
       "object_position": null,
       "order": null,
       "overflow": null,
       "overflow_x": null,
       "overflow_y": null,
       "padding": null,
       "right": null,
       "top": null,
       "visibility": null,
       "width": null
      }
     },
     "1f5972875f604185b873a3866aeb5e43": {
      "model_module": "@jupyter-widgets/controls",
      "model_module_version": "1.5.0",
      "model_name": "PasswordModel",
      "state": {
       "_dom_classes": [],
       "_model_module": "@jupyter-widgets/controls",
       "_model_module_version": "1.5.0",
       "_model_name": "PasswordModel",
       "_view_count": null,
       "_view_module": "@jupyter-widgets/controls",
       "_view_module_version": "1.5.0",
       "_view_name": "PasswordView",
       "continuous_update": true,
       "description": "Token:",
       "description_tooltip": null,
       "disabled": false,
       "layout": "IPY_MODEL_d869b22ab4d241978c3ed24a5eb64887",
       "placeholder": "​",
       "style": "IPY_MODEL_83d25700e2744d84bbe6a410b7753c6d",
       "value": ""
      }
     },
     "58d4faa1e7bb4170901c7aa076e03255": {
      "model_module": "@jupyter-widgets/base",
      "model_module_version": "1.2.0",
      "model_name": "LayoutModel",
      "state": {
       "_model_module": "@jupyter-widgets/base",
       "_model_module_version": "1.2.0",
       "_model_name": "LayoutModel",
       "_view_count": null,
       "_view_module": "@jupyter-widgets/base",
       "_view_module_version": "1.2.0",
       "_view_name": "LayoutView",
       "align_content": null,
       "align_items": null,
       "align_self": null,
       "border": null,
       "bottom": null,
       "display": null,
       "flex": null,
       "flex_flow": null,
       "grid_area": null,
       "grid_auto_columns": null,
       "grid_auto_flow": null,
       "grid_auto_rows": null,
       "grid_column": null,
       "grid_gap": null,
       "grid_row": null,
       "grid_template_areas": null,
       "grid_template_columns": null,
       "grid_template_rows": null,
       "height": null,
       "justify_content": null,
       "justify_items": null,
       "left": null,
       "margin": null,
       "max_height": null,
       "max_width": null,
       "min_height": null,
       "min_width": null,
       "object_fit": null,
       "object_position": null,
       "order": null,
       "overflow": null,
       "overflow_x": null,
       "overflow_y": null,
       "padding": null,
       "right": null,
       "top": null,
       "visibility": null,
       "width": null
      }
     },
     "63dd4e616cf44de682a9a13dc6482994": {
      "model_module": "@jupyter-widgets/controls",
      "model_module_version": "1.5.0",
      "model_name": "VBoxModel",
      "state": {
       "_dom_classes": [],
       "_model_module": "@jupyter-widgets/controls",
       "_model_module_version": "1.5.0",
       "_model_name": "VBoxModel",
       "_view_count": null,
       "_view_module": "@jupyter-widgets/controls",
       "_view_module_version": "1.5.0",
       "_view_name": "VBoxView",
       "box_style": "",
       "children": [
        "IPY_MODEL_6b1f045bfbee40e2a548bd8fc0ad5a17",
        "IPY_MODEL_1f5972875f604185b873a3866aeb5e43",
        "IPY_MODEL_d525736ba8724f87adb0ae07fc245cbc",
        "IPY_MODEL_8439a4df64994133807f85b9198d9375",
        "IPY_MODEL_e2092138829143f0850955fbbe852905"
       ],
       "layout": "IPY_MODEL_89688c65c55b4d068f02e60270bcc635"
      }
     },
     "6b1f045bfbee40e2a548bd8fc0ad5a17": {
      "model_module": "@jupyter-widgets/controls",
      "model_module_version": "1.5.0",
      "model_name": "HTMLModel",
      "state": {
       "_dom_classes": [],
       "_model_module": "@jupyter-widgets/controls",
       "_model_module_version": "1.5.0",
       "_model_name": "HTMLModel",
       "_view_count": null,
       "_view_module": "@jupyter-widgets/controls",
       "_view_module_version": "1.5.0",
       "_view_name": "HTMLView",
       "description": "",
       "description_tooltip": null,
       "layout": "IPY_MODEL_853e72beb6444e26a532fbc359915017",
       "placeholder": "​",
       "style": "IPY_MODEL_7deb36a75212433d937bfc4adcb51c3b",
       "value": "<center> <img\nsrc=https://huggingface.co/front/assets/huggingface_logo-noborder.svg\nalt='Hugging Face'> <br> Copy a token from <a\nhref=\"https://huggingface.co/settings/tokens\" target=\"_blank\">your Hugging Face\ntokens page</a> and paste it below. <br> Immediately click login after copying\nyour token or it might be stored in plain text in this notebook file. </center>"
      }
     },
     "7deb36a75212433d937bfc4adcb51c3b": {
      "model_module": "@jupyter-widgets/controls",
      "model_module_version": "1.5.0",
      "model_name": "DescriptionStyleModel",
      "state": {
       "_model_module": "@jupyter-widgets/controls",
       "_model_module_version": "1.5.0",
       "_model_name": "DescriptionStyleModel",
       "_view_count": null,
       "_view_module": "@jupyter-widgets/base",
       "_view_module_version": "1.2.0",
       "_view_name": "StyleView",
       "description_width": ""
      }
     },
     "83d25700e2744d84bbe6a410b7753c6d": {
      "model_module": "@jupyter-widgets/controls",
      "model_module_version": "1.5.0",
      "model_name": "DescriptionStyleModel",
      "state": {
       "_model_module": "@jupyter-widgets/controls",
       "_model_module_version": "1.5.0",
       "_model_name": "DescriptionStyleModel",
       "_view_count": null,
       "_view_module": "@jupyter-widgets/base",
       "_view_module_version": "1.2.0",
       "_view_name": "StyleView",
       "description_width": ""
      }
     },
     "8439a4df64994133807f85b9198d9375": {
      "model_module": "@jupyter-widgets/controls",
      "model_module_version": "1.5.0",
      "model_name": "ButtonModel",
      "state": {
       "_dom_classes": [],
       "_model_module": "@jupyter-widgets/controls",
       "_model_module_version": "1.5.0",
       "_model_name": "ButtonModel",
       "_view_count": null,
       "_view_module": "@jupyter-widgets/controls",
       "_view_module_version": "1.5.0",
       "_view_name": "ButtonView",
       "button_style": "",
       "description": "Login",
       "disabled": false,
       "icon": "",
       "layout": "IPY_MODEL_c40c68c73874456c91275b00046fbc96",
       "style": "IPY_MODEL_861126e647ff41198d6384a8e825d19f",
       "tooltip": ""
      }
     },
     "853e72beb6444e26a532fbc359915017": {
      "model_module": "@jupyter-widgets/base",
      "model_module_version": "1.2.0",
      "model_name": "LayoutModel",
      "state": {
       "_model_module": "@jupyter-widgets/base",
       "_model_module_version": "1.2.0",
       "_model_name": "LayoutModel",
       "_view_count": null,
       "_view_module": "@jupyter-widgets/base",
       "_view_module_version": "1.2.0",
       "_view_name": "LayoutView",
       "align_content": null,
       "align_items": null,
       "align_self": null,
       "border": null,
       "bottom": null,
       "display": null,
       "flex": null,
       "flex_flow": null,
       "grid_area": null,
       "grid_auto_columns": null,
       "grid_auto_flow": null,
       "grid_auto_rows": null,
       "grid_column": null,
       "grid_gap": null,
       "grid_row": null,
       "grid_template_areas": null,
       "grid_template_columns": null,
       "grid_template_rows": null,
       "height": null,
       "justify_content": null,
       "justify_items": null,
       "left": null,
       "margin": null,
       "max_height": null,
       "max_width": null,
       "min_height": null,
       "min_width": null,
       "object_fit": null,
       "object_position": null,
       "order": null,
       "overflow": null,
       "overflow_x": null,
       "overflow_y": null,
       "padding": null,
       "right": null,
       "top": null,
       "visibility": null,
       "width": null
      }
     },
     "861126e647ff41198d6384a8e825d19f": {
      "model_module": "@jupyter-widgets/controls",
      "model_module_version": "1.5.0",
      "model_name": "ButtonStyleModel",
      "state": {
       "_model_module": "@jupyter-widgets/controls",
       "_model_module_version": "1.5.0",
       "_model_name": "ButtonStyleModel",
       "_view_count": null,
       "_view_module": "@jupyter-widgets/base",
       "_view_module_version": "1.2.0",
       "_view_name": "StyleView",
       "button_color": null,
       "font_weight": ""
      }
     },
     "89688c65c55b4d068f02e60270bcc635": {
      "model_module": "@jupyter-widgets/base",
      "model_module_version": "1.2.0",
      "model_name": "LayoutModel",
      "state": {
       "_model_module": "@jupyter-widgets/base",
       "_model_module_version": "1.2.0",
       "_model_name": "LayoutModel",
       "_view_count": null,
       "_view_module": "@jupyter-widgets/base",
       "_view_module_version": "1.2.0",
       "_view_name": "LayoutView",
       "align_content": null,
       "align_items": "center",
       "align_self": null,
       "border": null,
       "bottom": null,
       "display": "flex",
       "flex": null,
       "flex_flow": "column",
       "grid_area": null,
       "grid_auto_columns": null,
       "grid_auto_flow": null,
       "grid_auto_rows": null,
       "grid_column": null,
       "grid_gap": null,
       "grid_row": null,
       "grid_template_areas": null,
       "grid_template_columns": null,
       "grid_template_rows": null,
       "height": null,
       "justify_content": null,
       "justify_items": null,
       "left": null,
       "margin": null,
       "max_height": null,
       "max_width": null,
       "min_height": null,
       "min_width": null,
       "object_fit": null,
       "object_position": null,
       "order": null,
       "overflow": null,
       "overflow_x": null,
       "overflow_y": null,
       "padding": null,
       "right": null,
       "top": null,
       "visibility": null,
       "width": "50%"
      }
     },
     "c40c68c73874456c91275b00046fbc96": {
      "model_module": "@jupyter-widgets/base",
      "model_module_version": "1.2.0",
      "model_name": "LayoutModel",
      "state": {
       "_model_module": "@jupyter-widgets/base",
       "_model_module_version": "1.2.0",
       "_model_name": "LayoutModel",
       "_view_count": null,
       "_view_module": "@jupyter-widgets/base",
       "_view_module_version": "1.2.0",
       "_view_name": "LayoutView",
       "align_content": null,
       "align_items": null,
       "align_self": null,
       "border": null,
       "bottom": null,
       "display": null,
       "flex": null,
       "flex_flow": null,
       "grid_area": null,
       "grid_auto_columns": null,
       "grid_auto_flow": null,
       "grid_auto_rows": null,
       "grid_column": null,
       "grid_gap": null,
       "grid_row": null,
       "grid_template_areas": null,
       "grid_template_columns": null,
       "grid_template_rows": null,
       "height": null,
       "justify_content": null,
       "justify_items": null,
       "left": null,
       "margin": null,
       "max_height": null,
       "max_width": null,
       "min_height": null,
       "min_width": null,
       "object_fit": null,
       "object_position": null,
       "order": null,
       "overflow": null,
       "overflow_x": null,
       "overflow_y": null,
       "padding": null,
       "right": null,
       "top": null,
       "visibility": null,
       "width": null
      }
     },
     "c7ce27a3e74b4751bfda34eada4843ce": {
      "model_module": "@jupyter-widgets/controls",
      "model_module_version": "1.5.0",
      "model_name": "DescriptionStyleModel",
      "state": {
       "_model_module": "@jupyter-widgets/controls",
       "_model_module_version": "1.5.0",
       "_model_name": "DescriptionStyleModel",
       "_view_count": null,
       "_view_module": "@jupyter-widgets/base",
       "_view_module_version": "1.2.0",
       "_view_name": "StyleView",
       "description_width": ""
      }
     },
     "d525736ba8724f87adb0ae07fc245cbc": {
      "model_module": "@jupyter-widgets/controls",
      "model_module_version": "1.5.0",
      "model_name": "CheckboxModel",
      "state": {
       "_dom_classes": [],
       "_model_module": "@jupyter-widgets/controls",
       "_model_module_version": "1.5.0",
       "_model_name": "CheckboxModel",
       "_view_count": null,
       "_view_module": "@jupyter-widgets/controls",
       "_view_module_version": "1.5.0",
       "_view_name": "CheckboxView",
       "description": "Add token as git credential?",
       "description_tooltip": null,
       "disabled": false,
       "indent": true,
       "layout": "IPY_MODEL_0f9aa7e18eb0487e8caf72586df27eaa",
       "style": "IPY_MODEL_da6d72043355462da0c6543eb8ed5f2f",
       "value": true
      }
     },
     "d869b22ab4d241978c3ed24a5eb64887": {
      "model_module": "@jupyter-widgets/base",
      "model_module_version": "1.2.0",
      "model_name": "LayoutModel",
      "state": {
       "_model_module": "@jupyter-widgets/base",
       "_model_module_version": "1.2.0",
       "_model_name": "LayoutModel",
       "_view_count": null,
       "_view_module": "@jupyter-widgets/base",
       "_view_module_version": "1.2.0",
       "_view_name": "LayoutView",
       "align_content": null,
       "align_items": null,
       "align_self": null,
       "border": null,
       "bottom": null,
       "display": null,
       "flex": null,
       "flex_flow": null,
       "grid_area": null,
       "grid_auto_columns": null,
       "grid_auto_flow": null,
       "grid_auto_rows": null,
       "grid_column": null,
       "grid_gap": null,
       "grid_row": null,
       "grid_template_areas": null,
       "grid_template_columns": null,
       "grid_template_rows": null,
       "height": null,
       "justify_content": null,
       "justify_items": null,
       "left": null,
       "margin": null,
       "max_height": null,
       "max_width": null,
       "min_height": null,
       "min_width": null,
       "object_fit": null,
       "object_position": null,
       "order": null,
       "overflow": null,
       "overflow_x": null,
       "overflow_y": null,
       "padding": null,
       "right": null,
       "top": null,
       "visibility": null,
       "width": null
      }
     },
     "da6d72043355462da0c6543eb8ed5f2f": {
      "model_module": "@jupyter-widgets/controls",
      "model_module_version": "1.5.0",
      "model_name": "DescriptionStyleModel",
      "state": {
       "_model_module": "@jupyter-widgets/controls",
       "_model_module_version": "1.5.0",
       "_model_name": "DescriptionStyleModel",
       "_view_count": null,
       "_view_module": "@jupyter-widgets/base",
       "_view_module_version": "1.2.0",
       "_view_name": "StyleView",
       "description_width": ""
      }
     },
     "e2092138829143f0850955fbbe852905": {
      "model_module": "@jupyter-widgets/controls",
      "model_module_version": "1.5.0",
      "model_name": "HTMLModel",
      "state": {
       "_dom_classes": [],
       "_model_module": "@jupyter-widgets/controls",
       "_model_module_version": "1.5.0",
       "_model_name": "HTMLModel",
       "_view_count": null,
       "_view_module": "@jupyter-widgets/controls",
       "_view_module_version": "1.5.0",
       "_view_name": "HTMLView",
       "description": "",
       "description_tooltip": null,
       "layout": "IPY_MODEL_58d4faa1e7bb4170901c7aa076e03255",
       "placeholder": "​",
       "style": "IPY_MODEL_c7ce27a3e74b4751bfda34eada4843ce",
       "value": "\n<b>Pro Tip:</b> If you don't already have one, you can create a dedicated\n'notebooks' token with 'write' access, that you can then easily reuse for all\nnotebooks. </center>"
      }
     }
    },
    "version_major": 2,
    "version_minor": 0
   }
  }
 },
 "nbformat": 4,
 "nbformat_minor": 5
}
